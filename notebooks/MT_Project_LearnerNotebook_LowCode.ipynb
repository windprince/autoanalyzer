{
 "cells": [
  {
   "cell_type": "markdown",
   "metadata": {
    "id": "9EaJ8AGwpM-2"
   },
   "source": [
    "## Problem Statement"
   ]
  },
  {
   "cell_type": "markdown",
   "metadata": {
    "id": "x3-QehJxbp0t"
   },
   "source": [
    "### Business Context\n",
    "\n",
    "Renewable energy sources play an increasingly important role in the global energy mix, as the effort to reduce the environmental impact of energy production increases.\n",
    "\n",
    "Out of all the renewable energy alternatives, wind energy is one of the most developed technologies worldwide. The U.S Department of Energy has put together a guide to achieving operational efficiency using predictive maintenance practices.\n",
    "\n",
    "Predictive maintenance uses sensor information and analysis methods to measure and predict degradation and future component capability. The idea behind predictive maintenance is that failure patterns are predictable and if component failure can be predicted accurately and the component is replaced before it fails, the costs of operation and maintenance will be much lower.\n",
    "\n",
    "The sensors fitted across different machines involved in the process of energy generation collect data related to various environmental factors (temperature, humidity, wind speed, etc.) and additional features related to various parts of the wind turbine (gearbox, tower, blades, break, etc.). \n",
    "\n",
    "\n",
    "\n",
    "## Objective\n",
    "“ReneWind” is a company working on improving the machinery/processes involved in the production of wind energy using machine learning and has collected data of generator failure of wind turbines using sensors. They have shared a ciphered version of the data, as the data collected through sensors is confidential (the type of data collected varies with companies). Data has 40 predictors, 20000 observations in the training set and 5000 in the test set.\n",
    "\n",
    "The objective is to build various classification models, tune them, and find the best one that will help identify failures so that the generators could be repaired before failing/breaking to reduce the overall maintenance cost. \n",
    "The nature of predictions made by the classification model will translate as follows:\n",
    "\n",
    "- True positives (TP) are failures correctly predicted by the model. These will result in repairing costs.\n",
    "- False negatives (FN) are real failures where there is no detection by the model. These will result in replacement costs.\n",
    "- False positives (FP) are detections where there is no failure. These will result in inspection costs.\n",
    "\n",
    "It is given that the cost of repairing a generator is much less than the cost of replacing it, and the cost of inspection is less than the cost of repair.\n",
    "\n",
    "“1” in the target variables should be considered as “failure” and “0” represents “No failure”.\n",
    "\n",
    "## Data Description\n",
    "- The data provided is a transformed version of original data which was collected using sensors.\n",
    "- Train.csv - To be used for training and tuning of models. \n",
    "- Test.csv - To be used only for testing the performance of the final best model.\n",
    "- Both the datasets consist of 40 predictor variables and 1 target variable"
   ]
  },
  {
   "cell_type": "markdown",
   "metadata": {
    "id": "NbHOIdlwcrqR"
   },
   "source": [
    "### **Please read the instructions carefully before starting the project.** \n",
    "This is a commented Jupyter IPython Notebook file in which all the instructions and tasks to be performed are mentioned. \n",
    "* Blanks '_______' are provided in the notebook that \n",
    "needs to be filled with an appropriate code to get the correct result. With every '_______' blank, there is a comment that briefly describes what needs to be filled in the blank space. \n",
    "* Identify the task to be performed correctly, and only then proceed to write the required code.\n",
    "* Fill the code wherever asked by the commented lines like \"# write your code here\" or \"# complete the code\". Running incomplete code may throw error.\n",
    "* Please run the codes in a sequential manner from the beginning to avoid any unnecessary errors.\n",
    "* Add the results/observations (wherever mentioned) derived from the analysis in the presentation and submit the same.\n"
   ]
  },
  {
   "cell_type": "markdown",
   "metadata": {
    "id": "v_-uuGqH-qTt"
   },
   "source": [
    "## Importing necessary libraries"
   ]
  },
  {
   "cell_type": "code",
   "execution_count": 1,
   "metadata": {
    "id": "dbiVVX6hbp0v"
   },
   "outputs": [],
   "source": [
    "# Libraries to help with reading and manipulating data\n",
    "import pandas as pd\n",
    "import numpy as np\n",
    "\n",
    "# Libaries to help with data visualization\n",
    "import matplotlib.pyplot as plt\n",
    "import seaborn as sns\n",
    "\n",
    "# To tune model, get different metric scores, and split data\n",
    "from sklearn.metrics import (\n",
    "    f1_score,\n",
    "    accuracy_score,\n",
    "    recall_score,\n",
    "    precision_score,\n",
    "    confusion_matrix,\n",
    "    roc_auc_score,\n",
    "    ConfusionMatrixDisplay,\n",
    ")\n",
    "from sklearn import metrics\n",
    "\n",
    "from sklearn.model_selection import train_test_split, StratifiedKFold, cross_val_score\n",
    "\n",
    "# To be used for data scaling and one hot encoding\n",
    "from sklearn.preprocessing import StandardScaler, MinMaxScaler, OneHotEncoder\n",
    "\n",
    "# To impute missing values\n",
    "from sklearn.impute import SimpleImputer\n",
    "\n",
    "# To oversample and undersample data\n",
    "from imblearn.over_sampling import SMOTE\n",
    "from imblearn.under_sampling import RandomUnderSampler\n",
    "\n",
    "# To do hyperparameter tuning\n",
    "from sklearn.model_selection import RandomizedSearchCV\n",
    "\n",
    "# To be used for creating pipelines and personalizing them\n",
    "from sklearn.pipeline import Pipeline\n",
    "from sklearn.compose import ColumnTransformer\n",
    "\n",
    "# To define maximum number of columns to be displayed in a dataframe\n",
    "pd.set_option(\"display.max_columns\", None)\n",
    "pd.set_option(\"display.max_rows\", None)\n",
    "\n",
    "# To supress scientific notations for a dataframe\n",
    "pd.set_option(\"display.float_format\", lambda x: \"%.3f\" % x)\n",
    "\n",
    "# To help with model building\n",
    "from sklearn.linear_model import LogisticRegression\n",
    "from sklearn.tree import DecisionTreeClassifier\n",
    "from sklearn.ensemble import (\n",
    "    AdaBoostClassifier,\n",
    "    GradientBoostingClassifier,\n",
    "    RandomForestClassifier,\n",
    "    BaggingClassifier,\n",
    ")\n",
    "from xgboost import XGBClassifier\n",
    "\n",
    "# To suppress scientific notations\n",
    "pd.set_option(\"display.float_format\", lambda x: \"%.3f\" % x)\n",
    "\n",
    "# To suppress warnings\n",
    "import warnings\n",
    "\n",
    "warnings.filterwarnings(\"ignore\")\n",
    "\n",
    "# This will help in making the Python code more structured automatically (good coding practice)\n",
    "#%load_ext nb_black"
   ]
  },
  {
   "cell_type": "markdown",
   "metadata": {
    "id": "xxhpZv9y-qTw"
   },
   "source": [
    "## Loading the dataset"
   ]
  },
  {
   "cell_type": "code",
   "execution_count": null,
   "metadata": {
    "id": "39UgpBY3bp0y"
   },
   "outputs": [],
   "source": [
    "df = pd.read_csv('_______') ##  Complete the code to read the data\n",
    "df_test = pd.read_csv('_______') ##  Complete the code to read the data"
   ]
  },
  {
   "cell_type": "markdown",
   "metadata": {
    "id": "M1TEog7cAs5m"
   },
   "source": [
    "## Data Overview"
   ]
  },
  {
   "cell_type": "markdown",
   "metadata": {
    "id": "W-5jUOgu-qTz"
   },
   "source": [
    "The initial steps to get an overview of any dataset is to: \n",
    "- observe the first few rows of the dataset, to check whether the dataset has been loaded properly or not\n",
    "- get information about the number of rows and columns in the dataset\n",
    "- find out the data types of the columns to ensure that data is stored in the preferred format and the value of each property is as expected.\n",
    "- check the statistical summary of the dataset to get an overview of the numerical columns of the data"
   ]
  },
  {
   "cell_type": "markdown",
   "metadata": {
    "id": "KQi5ygTC-qT1"
   },
   "source": [
    "### Checking the shape of the dataset"
   ]
  },
  {
   "cell_type": "code",
   "execution_count": null,
   "metadata": {
    "id": "7Y8epHpjbp0z"
   },
   "outputs": [],
   "source": [
    "# Checking the number of rows and columns in the training data\n",
    "df.'_______' ##  Complete the code to view dimensions of the train data"
   ]
  },
  {
   "cell_type": "code",
   "execution_count": null,
   "metadata": {
    "id": "hA15qTjzbp01"
   },
   "outputs": [],
   "source": [
    "# Checking the number of rows and columns in the test data\n",
    "df_test.'_______' ##  Complete the code to view dimensions of the test data"
   ]
  },
  {
   "cell_type": "code",
   "execution_count": null,
   "metadata": {
    "id": "QTsYJZBubp02"
   },
   "outputs": [],
   "source": [
    "# let's create a copy of the training data\n",
    "data = df.copy()"
   ]
  },
  {
   "cell_type": "code",
   "execution_count": null,
   "metadata": {
    "id": "69ImWbLXbp03"
   },
   "outputs": [],
   "source": [
    "# let's create a copy of the training data\n",
    "data_test = df_test.copy()"
   ]
  },
  {
   "cell_type": "markdown",
   "metadata": {
    "id": "961px703qhLV"
   },
   "source": [
    "### Displaying the first few rows of the dataset"
   ]
  },
  {
   "cell_type": "code",
   "execution_count": null,
   "metadata": {
    "id": "l9RnN7Twbp03"
   },
   "outputs": [],
   "source": [
    "# let's view the first 5 rows of the data\n",
    "data.'_______' ##  Complete the code to view top 5 rows of the data"
   ]
  },
  {
   "cell_type": "code",
   "execution_count": null,
   "metadata": {
    "id": "N9Ir8YPgbp04"
   },
   "outputs": [],
   "source": [
    "# let's view the last 5 rows of the data\n",
    "data_test.'_______' ##  Complete the code to view last 5 rows of the data  "
   ]
  },
  {
   "cell_type": "markdown",
   "metadata": {
    "id": "5TcqcxbK-qT3"
   },
   "source": [
    "### Checking the data types of the columns for the dataset"
   ]
  },
  {
   "cell_type": "code",
   "execution_count": null,
   "metadata": {
    "id": "EXBYJoKkbp04"
   },
   "outputs": [],
   "source": [
    "# let's check the data types of the columns in the dataset\n",
    "data.info()"
   ]
  },
  {
   "cell_type": "markdown",
   "metadata": {
    "id": "xNr4bWoM-qT5"
   },
   "source": [
    "### Checking for duplicate values"
   ]
  },
  {
   "cell_type": "code",
   "execution_count": null,
   "metadata": {
    "id": "V0EmBHNmbp04"
   },
   "outputs": [],
   "source": [
    "# let's check for duplicate values in the data\n",
    "data.'_______' ##  Complete the code to check duplicate entries in the data"
   ]
  },
  {
   "cell_type": "markdown",
   "metadata": {
    "id": "Ch_TjRfF-qT5"
   },
   "source": [
    "### Checking for missing values"
   ]
  },
  {
   "cell_type": "code",
   "execution_count": null,
   "metadata": {
    "id": "SlwFZm-Jbp05"
   },
   "outputs": [],
   "source": [
    "# let's check for missing values in the data\n",
    "data.'_______' ##  Complete the code to check missing entries in the train data"
   ]
  },
  {
   "cell_type": "code",
   "execution_count": null,
   "metadata": {
    "id": "33bar6robp06"
   },
   "outputs": [],
   "source": [
    "# let's check for missing values in the data\n",
    "data_test.'_______' ##  Complete the code to check missing entries in the test data"
   ]
  },
  {
   "cell_type": "markdown",
   "metadata": {
    "id": "nUCorhch-qT4"
   },
   "source": [
    "### Statistical summary of the dataset"
   ]
  },
  {
   "cell_type": "code",
   "execution_count": null,
   "metadata": {
    "id": "J6lzvHKCbp06"
   },
   "outputs": [],
   "source": [
    "# let's view the statistical summary of the numerical columns in the data\n",
    "data.'_______' ##  Complete the code to print the statitical summary of the train data"
   ]
  },
  {
   "cell_type": "markdown",
   "metadata": {
    "id": "DhPuzWO7hmV8"
   },
   "source": [
    "## Exploratory Data Analysis"
   ]
  },
  {
   "cell_type": "markdown",
   "metadata": {
    "id": "Lv7Bs8aUbp07"
   },
   "source": [
    "### Univariate analysis"
   ]
  },
  {
   "cell_type": "code",
   "execution_count": null,
   "metadata": {
    "id": "QIP4bI3Zbp07",
    "outputId": "f5372b09-92ef-4fbc-9398-e267e9116aa9"
   },
   "outputs": [
    {
     "data": {
      "application/javascript": [
       "\n",
       "            setTimeout(function() {\n",
       "                var nbb_cell_id = 15;\n",
       "                var nbb_unformatted_code = \"# function to plot a boxplot and a histogram along the same scale.\\n\\n\\ndef histogram_boxplot(data, feature, figsize=(12, 7), kde=False, bins=None):\\n    \\\"\\\"\\\"\\n    Boxplot and histogram combined\\n\\n    data: dataframe\\n    feature: dataframe column\\n    figsize: size of figure (default (12,7))\\n    kde: whether to the show density curve (default False)\\n    bins: number of bins for histogram (default None)\\n    \\\"\\\"\\\"\\n    f2, (ax_box2, ax_hist2) = plt.subplots(\\n        nrows=2,  # Number of rows of the subplot grid= 2\\n        sharex=True,  # x-axis will be shared among all subplots\\n        gridspec_kw={\\\"height_ratios\\\": (0.25, 0.75)},\\n        figsize=figsize,\\n    )  # creating the 2 subplots\\n    sns.boxplot(\\n        data=data, x=feature, ax=ax_box2, showmeans=True, color=\\\"violet\\\"\\n    )  # boxplot will be created and a star will indicate the mean value of the column\\n    sns.histplot(\\n        data=data, x=feature, kde=kde, ax=ax_hist2, bins=bins, palette=\\\"winter\\\"\\n    ) if bins else sns.histplot(\\n        data=data, x=feature, kde=kde, ax=ax_hist2\\n    )  # For histogram\\n    ax_hist2.axvline(\\n        data[feature].mean(), color=\\\"green\\\", linestyle=\\\"--\\\"\\n    )  # Add mean to the histogram\\n    ax_hist2.axvline(\\n        data[feature].median(), color=\\\"black\\\", linestyle=\\\"-\\\"\\n    )  # Add median to the histogram\";\n",
       "                var nbb_formatted_code = \"# function to plot a boxplot and a histogram along the same scale.\\n\\n\\ndef histogram_boxplot(data, feature, figsize=(12, 7), kde=False, bins=None):\\n    \\\"\\\"\\\"\\n    Boxplot and histogram combined\\n\\n    data: dataframe\\n    feature: dataframe column\\n    figsize: size of figure (default (12,7))\\n    kde: whether to the show density curve (default False)\\n    bins: number of bins for histogram (default None)\\n    \\\"\\\"\\\"\\n    f2, (ax_box2, ax_hist2) = plt.subplots(\\n        nrows=2,  # Number of rows of the subplot grid= 2\\n        sharex=True,  # x-axis will be shared among all subplots\\n        gridspec_kw={\\\"height_ratios\\\": (0.25, 0.75)},\\n        figsize=figsize,\\n    )  # creating the 2 subplots\\n    sns.boxplot(\\n        data=data, x=feature, ax=ax_box2, showmeans=True, color=\\\"violet\\\"\\n    )  # boxplot will be created and a star will indicate the mean value of the column\\n    sns.histplot(\\n        data=data, x=feature, kde=kde, ax=ax_hist2, bins=bins, palette=\\\"winter\\\"\\n    ) if bins else sns.histplot(\\n        data=data, x=feature, kde=kde, ax=ax_hist2\\n    )  # For histogram\\n    ax_hist2.axvline(\\n        data[feature].mean(), color=\\\"green\\\", linestyle=\\\"--\\\"\\n    )  # Add mean to the histogram\\n    ax_hist2.axvline(\\n        data[feature].median(), color=\\\"black\\\", linestyle=\\\"-\\\"\\n    )  # Add median to the histogram\";\n",
       "                var nbb_cells = Jupyter.notebook.get_cells();\n",
       "                for (var i = 0; i < nbb_cells.length; ++i) {\n",
       "                    if (nbb_cells[i].input_prompt_number == nbb_cell_id) {\n",
       "                        if (nbb_cells[i].get_text() == nbb_unformatted_code) {\n",
       "                             nbb_cells[i].set_text(nbb_formatted_code);\n",
       "                        }\n",
       "                        break;\n",
       "                    }\n",
       "                }\n",
       "            }, 500);\n",
       "            "
      ],
      "text/plain": [
       "<IPython.core.display.Javascript object>"
      ]
     },
     "metadata": {},
     "output_type": "display_data"
    }
   ],
   "source": [
    "# function to plot a boxplot and a histogram along the same scale.\n",
    "\n",
    "\n",
    "def histogram_boxplot(data, feature, figsize=(12, 7), kde=False, bins=None):\n",
    "    \"\"\"\n",
    "    Boxplot and histogram combined\n",
    "\n",
    "    data: dataframe\n",
    "    feature: dataframe column\n",
    "    figsize: size of figure (default (12,7))\n",
    "    kde: whether to the show density curve (default False)\n",
    "    bins: number of bins for histogram (default None)\n",
    "    \"\"\"\n",
    "    f2, (ax_box2, ax_hist2) = plt.subplots(\n",
    "        nrows=2,  # Number of rows of the subplot grid= 2\n",
    "        sharex=True,  # x-axis will be shared among all subplots\n",
    "        gridspec_kw={\"height_ratios\": (0.25, 0.75)},\n",
    "        figsize=figsize,\n",
    "    )  # creating the 2 subplots\n",
    "    sns.boxplot(\n",
    "        data=data, x=feature, ax=ax_box2, showmeans=True, color=\"violet\"\n",
    "    )  # boxplot will be created and a triangle will indicate the mean value of the column\n",
    "    sns.histplot(\n",
    "        data=data, x=feature, kde=kde, ax=ax_hist2, bins=bins, palette=\"winter\"\n",
    "    ) if bins else sns.histplot(\n",
    "        data=data, x=feature, kde=kde, ax=ax_hist2\n",
    "    )  # For histogram\n",
    "    ax_hist2.axvline(\n",
    "        data[feature].mean(), color=\"green\", linestyle=\"--\"\n",
    "    )  # Add mean to the histogram\n",
    "    ax_hist2.axvline(\n",
    "        data[feature].median(), color=\"black\", linestyle=\"-\"\n",
    "    )  # Add median to the histogram"
   ]
  },
  {
   "cell_type": "markdown",
   "metadata": {
    "id": "zBkL6zw0bp07"
   },
   "source": [
    "#### Plotting histograms and boxplots for all the variables"
   ]
  },
  {
   "cell_type": "code",
   "execution_count": null,
   "metadata": {
    "id": "p0ip-InCbp07",
    "scrolled": true
   },
   "outputs": [],
   "source": [
    "for feature in df.columns:\n",
    "    histogram_boxplot(data, feature, figsize=(12, 7), kde=False, bins=None)"
   ]
  },
  {
   "cell_type": "markdown",
   "metadata": {
    "id": "sfvnghrACelD"
   },
   "source": [
    "### Let's look at the values in target variable"
   ]
  },
  {
   "cell_type": "code",
   "execution_count": null,
   "metadata": {
    "id": "jchAb6Ikbp08"
   },
   "outputs": [],
   "source": [
    "data[\"Target\"].'_______' ##  Complete the code to check the class distribution in target variable for train data"
   ]
  },
  {
   "cell_type": "code",
   "execution_count": null,
   "metadata": {
    "id": "5rupsM4sbp08"
   },
   "outputs": [],
   "source": [
    "data_test[\"Target\"].'_______' ##  Complete the code to check the class distribution in target variable for test data"
   ]
  },
  {
   "cell_type": "markdown",
   "metadata": {
    "id": "Bp8vC9MZbp09"
   },
   "source": [
    "## Data Pre-Processing"
   ]
  },
  {
   "cell_type": "code",
   "execution_count": null,
   "metadata": {
    "id": "IktO9G2Lbp09"
   },
   "outputs": [],
   "source": [
    "# Dividing train data into X and y \n",
    "X = data.drop([\"Target\"], axis=1)\n",
    "y = data[\"Target\"]"
   ]
  },
  {
   "cell_type": "markdown",
   "metadata": {
    "id": "eBXiW4s4kd63"
   },
   "source": [
    "**Since we already have a separate test set, we don't need to divide data into train, valiation and test**\n"
   ]
  },
  {
   "cell_type": "code",
   "execution_count": null,
   "metadata": {
    "id": "j-8vqBMXbp09"
   },
   "outputs": [],
   "source": [
    "# Splitting train dataset into training and validation set\n",
    "\n",
    "X_train, X_val, y_train, y_val = train_test_split('_______') ## Complete the code to split the train dataset into train test in the ratio 75:25"
   ]
  },
  {
   "cell_type": "code",
   "execution_count": null,
   "metadata": {
    "id": "eDmoKnBBFEpG"
   },
   "outputs": [],
   "source": [
    "# Checking the number of rows and columns in the X_train data\n",
    "X_train.'_______' ##  Complete the code to view dimensions of the X_train data\n",
    "\n",
    "# Checking the number of rows and columns in the X_val data\n",
    "X_val.'_______' ##  Complete the code to view dimensions of the X_val data"
   ]
  },
  {
   "cell_type": "code",
   "execution_count": null,
   "metadata": {
    "id": "okpvXPeRkTL2"
   },
   "outputs": [],
   "source": [
    "# Dividing test data into X_test and y_test\n",
    "\n",
    "X_test = data_test.'_______' ##  Complete the code to drop target variable from test data\n",
    "y_test = data_test'_______' ##  Complete the code to store target variable in y_test"
   ]
  },
  {
   "cell_type": "code",
   "execution_count": null,
   "metadata": {
    "id": "lk7gMVMSjR0N"
   },
   "outputs": [],
   "source": [
    "# Checking the number of rows and columns in the X_test data\n",
    "X_test.'_______' ##  Complete the code to view dimensions of the X_test data"
   ]
  },
  {
   "cell_type": "markdown",
   "metadata": {
    "id": "0J99-7Kubp09"
   },
   "source": [
    "## Missing value imputation\n",
    "\n",
    "\n"
   ]
  },
  {
   "cell_type": "code",
   "execution_count": null,
   "metadata": {
    "id": "28L1vgAwbp09"
   },
   "outputs": [],
   "source": [
    "# creating an instace of the imputer to be used\n",
    "imputer = SimpleImputer(strategy=\"median\")"
   ]
  },
  {
   "cell_type": "code",
   "execution_count": null,
   "metadata": {
    "id": "FNfbw4rJbp09"
   },
   "outputs": [],
   "source": [
    "# Fit and transform the train data\n",
    "X_train = pd.DataFrame(imputer.fit_transform(X_train), columns=X_train.columns)\n",
    "\n",
    "# Transform the validation data\n",
    "X_val = pd.DataFrame(imputer._______(X_val), columns=X_train.columns) ## Complete the code to impute missing values in X_val without data leakage\n",
    "\n",
    "# Transform the test data\n",
    "X_test = pd.DataFrame(imputer._______(X_test), columns=X_train.columns) ## Complete the code to impute missing values in X_test without data leakage"
   ]
  },
  {
   "cell_type": "code",
   "execution_count": null,
   "metadata": {
    "id": "3jdLvwTAbp09"
   },
   "outputs": [],
   "source": [
    "# Checking that no column has missing values in train or test sets\n",
    "print(X_train.isna().sum())\n",
    "print(\"-\" * 30)\n",
    "\n",
    "X_val.'_______' ## Complete the code to check the count of missing values in validation set\n",
    "X_test.'_______' ## Complete the code to check the count of missing values in test set"
   ]
  },
  {
   "cell_type": "markdown",
   "metadata": {
    "id": "OzOa9FGA6WtG"
   },
   "source": [
    "## Model Building"
   ]
  },
  {
   "cell_type": "markdown",
   "metadata": {
    "id": "YZqmoqz7bp0-"
   },
   "source": [
    "### Model evaluation criterion"
   ]
  },
  {
   "cell_type": "markdown",
   "metadata": {
    "id": "l2ORUgmUjDZC"
   },
   "source": [
    "The nature of predictions made by the classification model will translate as follows:\n",
    "\n",
    "- True positives (TP) are failures correctly predicted by the model.\n",
    "- False negatives (FN) are real failures in a generator where there is no detection by model. \n",
    "- False positives (FP) are failure detections in a generator where there is no failure.\n",
    "\n",
    "**Which metric to optimize?**\n",
    "\n",
    "* We need to choose the metric which will ensure that the maximum number of generator failures are predicted correctly by the model.\n",
    "* We would want Recall to be maximized as greater the Recall, the higher the chances of minimizing false negatives.\n",
    "* We want to minimize false negatives because if a model predicts that a machine will have no failure when there will be a failure, it will increase the maintenance cost."
   ]
  },
  {
   "cell_type": "markdown",
   "metadata": {
    "id": "VUs837UXbp0-"
   },
   "source": [
    "**Let's define a function to output different metrics (including recall) on the train and test set and a function to show confusion matrix so that we do not have to use the same code repetitively while evaluating models.**"
   ]
  },
  {
   "cell_type": "code",
   "execution_count": null,
   "metadata": {
    "id": "Nt33nwx_bp0-"
   },
   "outputs": [],
   "source": [
    "# defining a function to compute different metrics to check performance of a classification model built using sklearn\n",
    "def model_performance_classification_sklearn(model, predictors, target):\n",
    "    \"\"\"\n",
    "    Function to compute different metrics to check classification model performance\n",
    "\n",
    "    model: classifier\n",
    "    predictors: independent variables\n",
    "    target: dependent variable\n",
    "    \"\"\"\n",
    "\n",
    "    # predicting using the independent variables\n",
    "    pred = model.predict(predictors)\n",
    "\n",
    "    acc = accuracy_score(target, pred)  # to compute Accuracy\n",
    "    recall = recall_score(target, pred)  # to compute Recall\n",
    "    precision = precision_score(target, pred)  # to compute Precision\n",
    "    f1 = f1_score(target, pred)  # to compute F1-score\n",
    "\n",
    "    # creating a dataframe of metrics\n",
    "    df_perf = pd.DataFrame(\n",
    "        {\n",
    "            \"Accuracy\": acc,\n",
    "            \"Recall\": recall,\n",
    "            \"Precision\": precision,\n",
    "            \"F1\": f1\n",
    "        },\n",
    "        index=[0],\n",
    "    )\n",
    "\n",
    "    return df_perf"
   ]
  },
  {
   "cell_type": "markdown",
   "metadata": {
    "id": "-hOzddAXbp0_"
   },
   "source": [
    "### Defining scorer to be used for cross-validation and hyperparameter tuning"
   ]
  },
  {
   "cell_type": "markdown",
   "metadata": {
    "id": "dzLUm-eSi_cJ"
   },
   "source": [
    "- We want to reduce false negatives and will try to maximize \"Recall\".\n",
    "- To maximize Recall, we can use Recall as a **scorer** in cross-validation and hyperparameter tuning."
   ]
  },
  {
   "cell_type": "code",
   "execution_count": null,
   "metadata": {
    "id": "ayLcyOLsbp0_"
   },
   "outputs": [],
   "source": [
    "# Type of scoring used to compare parameter combinations\n",
    "scorer = metrics.make_scorer(metrics.recall_score)"
   ]
  },
  {
   "cell_type": "markdown",
   "metadata": {
    "id": "iNwROa3X3OV7"
   },
   "source": [
    "**We are now done with pre-processing and evaluation criterion, so let's start building the model.**"
   ]
  },
  {
   "cell_type": "markdown",
   "metadata": {
    "id": "8Je_G2zN3VCF"
   },
   "source": [
    "### Model Building on original data"
   ]
  },
  {
   "cell_type": "code",
   "execution_count": null,
   "metadata": {
    "id": "-OTOG3o1bp0_",
    "scrolled": true
   },
   "outputs": [],
   "source": [
    "models = []  # Empty list to store all the models\n",
    "\n",
    "# Appending models into the list\n",
    "models.append((\"Logistic regression\", LogisticRegression(random_state=1)))\n",
    "models.append((\"Bagging\", BaggingClassifier(random_state=1)))\n",
    "'_______' ## Complete the code to append remaining 4 models in the list models\n",
    "\n",
    "results1 = []  # Empty list to store all model's CV scores\n",
    "names = []  # Empty list to store name of the models\n",
    "\n",
    "\n",
    "# loop through all models to get the mean cross validated score\n",
    "print(\"\\n\" \"Cross-Validation performance on training dataset:\" \"\\n\")\n",
    "\n",
    "for name, model in models:\n",
    "    kfold = StratifiedKFold(\n",
    "        n_splits=5, shuffle=True, random_state=1\n",
    "    )  # Setting number of splits equal to 5\n",
    "    cv_result = cross_val_score(\n",
    "        estimator=model, X=X_train, y=y_train, scoring=scorer, cv=kfold\n",
    "    )\n",
    "    results1.append(cv_result)\n",
    "    names.append(name)\n",
    "    print(\"{}: {}\".format(name, cv_result.mean()))\n",
    "\n",
    "print(\"\\n\" \"Validation Performance:\" \"\\n\")\n",
    "\n",
    "for name, model in models:\n",
    "    model.fit(X_train, y_train)\n",
    "    scores = recall_score(y_val, model.predict(X_val))\n",
    "    print(\"{}: {}\".format(name, scores))"
   ]
  },
  {
   "cell_type": "code",
   "execution_count": null,
   "metadata": {
    "id": "Cm61fR_mbp0_",
    "scrolled": false
   },
   "outputs": [],
   "source": [
    "# Plotting boxplots for CV scores of all models defined above\n",
    "fig = plt.figure(figsize=(10, 7))\n",
    "\n",
    "fig.suptitle(\"Algorithm Comparison\")\n",
    "ax = fig.add_subplot(111)\n",
    "\n",
    "plt.boxplot(results1)\n",
    "ax.set_xticklabels(names)\n",
    "\n",
    "plt.show()"
   ]
  },
  {
   "cell_type": "markdown",
   "metadata": {
    "id": "C91_6Swtbp1A"
   },
   "source": [
    "### Model Building with oversampled data"
   ]
  },
  {
   "cell_type": "code",
   "execution_count": null,
   "metadata": {
    "id": "o2dEk01hbp1A"
   },
   "outputs": [],
   "source": [
    "print(\"Before OverSampling, counts of label '1': {}\".format(sum(y_train == 1)))\n",
    "print(\"Before OverSampling, counts of label '0': {} \\n\".format(sum(y_train == 0)))\n",
    "\n",
    "# Synthetic Minority Over Sampling Technique\n",
    "sm = SMOTE(sampling_strategy=1, k_neighbors=5, random_state=1)\n",
    "X_train_over, y_train_over = sm.fit_resample(X_train, y_train)\n",
    "\n",
    "\n",
    "print(\"After OverSampling, counts of label '1': {}\".format(sum(y_train_over == 1)))\n",
    "print(\"After OverSampling, counts of label '0': {} \\n\".format(sum(y_train_over == 0)))\n",
    "\n",
    "\n",
    "print(\"After OverSampling, the shape of train_X: {}\".format(X_train_over.shape))\n",
    "print(\"After OverSampling, the shape of train_y: {} \\n\".format(y_train_over.shape))"
   ]
  },
  {
   "cell_type": "code",
   "execution_count": null,
   "metadata": {
    "id": "VMdOjn_uICGt"
   },
   "outputs": [],
   "source": [
    "models = []  # Empty list to store all the models\n",
    "\n",
    "# Appending models into the list\n",
    "models.append((\"Logistic regression\", LogisticRegression(random_state=1)))\n",
    "models.append((\"Bagging\", BaggingClassifier(random_state=1)))\n",
    "'_______' ## Complete the code to append remaining 4 models in the list models\n",
    "\n",
    "results1 = []  # Empty list to store all model's CV scores\n",
    "names = []  # Empty list to store name of the models\n",
    "\n",
    "\n",
    "# loop through all models to get the mean cross validated score\n",
    "print(\"\\n\" \"Cross-Validation performance on training dataset:\" \"\\n\")\n",
    "\n",
    "for name, model in models:\n",
    "    kfold = StratifiedKFold(\n",
    "        n_splits=5, shuffle=True, random_state=1\n",
    "    )  # Setting number of splits equal to 5\n",
    "    cv_result = cross_val_score(\n",
    "        estimator=model, X=_______, y=_______, scoring=scorer, cv=kfold\n",
    "    )  ## Complete the code to build models on oversampled data\n",
    "    results1.append(cv_result)\n",
    "    names.append(name)\n",
    "    print(\"{}: {}\".format(name, cv_result.mean()))\n",
    "\n",
    "print(\"\\n\" \"Validation Performance:\" \"\\n\")\n",
    "\n",
    "for name, model in models:\n",
    "    model.fit(______,______)## Complete the code to build models on oversampled data \n",
    "    scores = recall_score(y_val, model.predict(X_val))\n",
    "    print(\"{}: {}\".format(name, scores))"
   ]
  },
  {
   "cell_type": "code",
   "execution_count": null,
   "metadata": {
    "id": "kwUcBORjbp1A",
    "scrolled": false
   },
   "outputs": [],
   "source": [
    "# Plotting boxplots for CV scores of all models defined above\n",
    "'_______' ## Write the code to create boxplot to check model performance on oversampled data"
   ]
  },
  {
   "cell_type": "markdown",
   "metadata": {
    "id": "fYLfDmHvbp1B"
   },
   "source": [
    "### Model Building with undersampled data"
   ]
  },
  {
   "cell_type": "code",
   "execution_count": null,
   "metadata": {
    "id": "PHM-5g8Qbp1B"
   },
   "outputs": [],
   "source": [
    "rus = RandomUnderSampler(random_state=1, sampling_strategy=1)\n",
    "X_train_un, y_train_un = rus.fit_resample(X_train, y_train)\n",
    "\n",
    "\n",
    "print(\"Before UnderSampling, counts of label '1': {}\".format(sum(y_train == 1)))\n",
    "print(\"Before UnderSampling, counts of label '0': {} \\n\".format(sum(y_train == 0)))\n",
    "\n",
    "\n",
    "print(\"After UnderSampling, counts of label '1': {}\".format(sum(y_train_un == 1)))\n",
    "print(\"After UnderSampling, counts of label '0': {} \\n\".format(sum(y_train_un == 0)))\n",
    "\n",
    "\n",
    "print(\"After UnderSampling, the shape of train_X: {}\".format(X_train_un.shape))\n",
    "print(\"After UnderSampling, the shape of train_y: {} \\n\".format(y_train_un.shape))"
   ]
  },
  {
   "cell_type": "code",
   "execution_count": null,
   "metadata": {
    "id": "jTcxf6VwIp4o"
   },
   "outputs": [],
   "source": [
    "models = []  # Empty list to store all the models\n",
    "\n",
    "# Appending models into the list\n",
    "models.append((\"Logistic regression\", LogisticRegression(random_state=1)))\n",
    "models.append((\"Bagging\", BaggingClassifier(random_state=1)))\n",
    "'_______' ## Complete the code to append remaining 4 models in the list models\n",
    "\n",
    "results1 = []  # Empty list to store all model's CV scores\n",
    "names = []  # Empty list to store name of the models\n",
    "\n",
    "\n",
    "# loop through all models to get the mean cross validated score\n",
    "print(\"\\n\" \"Cross-Validation performance on training dataset:\" \"\\n\")\n",
    "\n",
    "for name, model in models:\n",
    "    kfold = StratifiedKFold(\n",
    "        n_splits=5, shuffle=True, random_state=1\n",
    "    )  # Setting number of splits equal to 5\n",
    "    cv_result = cross_val_score(\n",
    "        estimator=model, X=_______, y=_______, scoring=scorer, cv=kfold\n",
    "    )  ## Complete the code to build models on undersampled data\n",
    "    results1.append(cv_result)\n",
    "    names.append(name)\n",
    "    print(\"{}: {}\".format(name, cv_result.mean()))\n",
    "\n",
    "print(\"\\n\" \"Validation Performance:\" \"\\n\")\n",
    "\n",
    "for name, model in models:\n",
    "    model.fit(______,______)## Complete the code to build models on undersampled data \n",
    "    scores = recall_score(y_val, model.predict(X_val))\n",
    "    print(\"{}: {}\".format(name, scores))"
   ]
  },
  {
   "cell_type": "code",
   "execution_count": null,
   "metadata": {
    "id": "8HcDqaD2bp1B",
    "scrolled": false
   },
   "outputs": [],
   "source": [
    "# Plotting boxplots for CV scores of all models defined above\n",
    "'_______' ## Write the code to create boxplot to check model performance on undersampled data"
   ]
  },
  {
   "cell_type": "markdown",
   "metadata": {
    "id": "ERm8IqLo34q8"
   },
   "source": [
    "**After looking at performance of all the models, let's decide which models can further improve with hyperparameter tuning.**\n",
    "\n",
    "**Note**: You can choose to tune some other model if XGBoost gives error."
   ]
  },
  {
   "cell_type": "markdown",
   "metadata": {
    "id": "zLZlKa99bp1C"
   },
   "source": [
    "## Hyperparameter Tuning"
   ]
  },
  {
   "cell_type": "markdown",
   "metadata": {
    "id": "tFEScXRsl9NM"
   },
   "source": [
    "### **Note**\n",
    "1. Sample parameter grid has been provided to do necessary hyperparameter tuning. One can extend/reduce the parameter grid based on execution time and system configuration to try to improve the model performance further wherever needed.      \n",
    "2. The models chosen in this notebook are based on test runs. One can update the best models as obtained upon code execution and tune them for best performance.\n",
    "\n"
   ]
  },
  {
   "cell_type": "markdown",
   "metadata": {
    "id": "2FtmPS7Ubp1D"
   },
   "source": [
    "### Tuning AdaBoost using oversampled data"
   ]
  },
  {
   "cell_type": "code",
   "execution_count": null,
   "metadata": {
    "id": "IPSlOlvkbp1D"
   },
   "outputs": [],
   "source": [
    "%%time \n",
    "\n",
    "# defining model\n",
    "Model = AdaBoostClassifier(random_state=1)\n",
    "\n",
    "# Parameter grid to pass in RandomSearchCV\n",
    "param_grid = {\n",
    "    \"n_estimators\": [100, 150, 200],\n",
    "    \"learning_rate\": [0.2, 0.05],\n",
    "    \"base_estimator\": [DecisionTreeClassifier(max_depth=1, random_state=1), DecisionTreeClassifier(max_depth=2, random_state=1), DecisionTreeClassifier(max_depth=3, random_state=1),\n",
    "    ]\n",
    "}\n",
    "\n",
    "\n",
    "#Calling RandomizedSearchCV\n",
    "randomized_cv = RandomizedSearchCV(estimator=Model, param_distributions=param_grid, n_iter=50, n_jobs = -1, scoring=scorer, cv=5, random_state=1)\n",
    "\n",
    "#Fitting parameters in RandomizedSearchCV\n",
    "randomized_cv.fit(X_train_over,y_train_over) ## Complete the code to fit the model on over sampled data\n",
    "\n",
    "print(\"Best parameters are {} with CV score={}:\" .format(randomized_cv.best_params_,randomized_cv.best_score_))"
   ]
  },
  {
   "cell_type": "code",
   "execution_count": null,
   "metadata": {
    "id": "UTQNwsr5bp1D"
   },
   "outputs": [],
   "source": [
    "# Creating new pipeline with best parameters\n",
    "tuned_ada = AdaBoostClassifier(\n",
    "    n_estimators= _______, learning_rate= _______, base_estimator= DecisionTreeClassifier(max_depth=_______, random_state=1)\n",
    ") ## Complete the code with the best parameters obtained from tuning\n",
    "\n",
    "tuned_ada.'_______' ## Complete the code to fit the model on oversampled data"
   ]
  },
  {
   "cell_type": "code",
   "execution_count": null,
   "metadata": {
    "id": "MKzdHSSbbp1D",
    "scrolled": true
   },
   "outputs": [],
   "source": [
    "ada_train_perf = model_performance_classification_sklearn(tuned_ada, X_train_over, y_train_over)\n",
    "ada_train_perf"
   ]
  },
  {
   "cell_type": "code",
   "execution_count": null,
   "metadata": {
    "id": "10_dV5m4bp1D"
   },
   "outputs": [],
   "source": [
    "ada_val_perf = '_______' ## Complete the code to check the performance on validation set\n",
    "ada_val_perf"
   ]
  },
  {
   "cell_type": "markdown",
   "metadata": {
    "id": "Dqj6dc38bp1E"
   },
   "source": [
    "### Tuning Random forest using undersampled data"
   ]
  },
  {
   "cell_type": "code",
   "execution_count": null,
   "metadata": {
    "id": "9tLNoDYhbp1E"
   },
   "outputs": [],
   "source": [
    "%%time \n",
    "\n",
    "# defining model\n",
    "Model = RandomForestClassifier(random_state=1)\n",
    "\n",
    "# Parameter grid to pass in RandomSearchCV\n",
    "param_grid = {\n",
    "    \"n_estimators\": [200,250,300],\n",
    "    \"min_samples_leaf\": np.arange(1, 4),\n",
    "    \"max_features\": [np.arange(0.3, 0.6, 0.1),'sqrt'],\n",
    "    \"max_samples\": np.arange(0.4, 0.7, 0.1)}\n",
    "\n",
    "\n",
    "#Calling RandomizedSearchCV\n",
    "randomized_cv = RandomizedSearchCV(estimator=Model, param_distributions=param_grid, n_iter=50, n_jobs = -1, scoring=scorer, cv=5, random_state=1)\n",
    "\n",
    "#Fitting parameters in RandomizedSearchCV\n",
    "randomized_cv.'_______' ## Complete the code to fit the model on under sampled data\n",
    "\n",
    "print(\"Best parameters are {} with CV score={}:\" .format(randomized_cv.best_params_,randomized_cv.best_score_))"
   ]
  },
  {
   "cell_type": "code",
   "execution_count": null,
   "metadata": {
    "id": "5kmoh9KMbp1E"
   },
   "outputs": [],
   "source": [
    "# Creating new pipeline with best parameters\n",
    "tuned_rf2 = RandomForestClassifier(\n",
    "    max_features=_______,\n",
    "    random_state=1,\n",
    "    max_samples=_______,\n",
    "    n_estimators=_______,\n",
    "    min_samples_leaf=_______,\n",
    ")## Complete the code with the best parameters obtained from tuning\n",
    "\n",
    "tuned_rf2.'_______' ## Complete the code to fit the model on under sampled data"
   ]
  },
  {
   "cell_type": "code",
   "execution_count": null,
   "metadata": {
    "id": "bAAD5mzybp1E"
   },
   "outputs": [],
   "source": [
    "rf2_train_perf = '_______' ## Complete the code to check the performance on undersampled train set\n",
    "rf2_train_perf"
   ]
  },
  {
   "cell_type": "code",
   "execution_count": null,
   "metadata": {
    "id": "WTtYpzO-bp1E",
    "scrolled": true
   },
   "outputs": [],
   "source": [
    "rf2_val_perf = '_______' ## Complete the code to check the performance on validation set\n",
    "rf2_val_perf"
   ]
  },
  {
   "cell_type": "markdown",
   "metadata": {
    "id": "XoLT8ewJ5V2d"
   },
   "source": [
    "### Tuning Gradient Boosting using oversampled data"
   ]
  },
  {
   "cell_type": "code",
   "execution_count": null,
   "metadata": {
    "id": "zkDY8_X25Kxe"
   },
   "outputs": [],
   "source": [
    "%%time \n",
    "\n",
    "# defining model\n",
    "Model = GradientBoostingClassifier(random_state=1)\n",
    "\n",
    "#Parameter grid to pass in RandomSearchCV\n",
    "param_grid={\"n_estimators\": np.arange(100,150,25), \"learning_rate\": [0.2, 0.05, 1], \"subsample\":[0.5,0.7], \"max_features\":[0.5,0.7]}\n",
    "\n",
    "#Calling RandomizedSearchCV\n",
    "randomized_cv = RandomizedSearchCV(estimator=Model, param_distributions=param_grid, scoring=scorer, n_iter=50, n_jobs = -1, cv=5, random_state=1)\n",
    "\n",
    "#Fitting parameters in RandomizedSearchCV\n",
    "randomized_cv.fit(X_train_over, y_train_over)\n",
    "\n",
    "print(\"Best parameters are {} with CV score={}:\" .format(randomized_cv.best_params_,randomized_cv.best_score_))"
   ]
  },
  {
   "cell_type": "code",
   "execution_count": null,
   "metadata": {
    "id": "j_61Omhq5KkB"
   },
   "outputs": [],
   "source": [
    "# Creating new pipeline with best parameters\n",
    "tuned_gbm = GradientBoostingClassifier(\n",
    "    max_features=_______,\n",
    "    random_state=1,\n",
    "    learning_rate=_______,\n",
    "    n_estimators=_______,\n",
    "    subsample=_______,\n",
    ")## Complete the code with the best parameters obtained from tuning\n",
    "\n",
    "tuned_gbm.fit(X_train_over, y_train_over)"
   ]
  },
  {
   "cell_type": "code",
   "execution_count": null,
   "metadata": {
    "id": "k8Oxv7PIJTmF"
   },
   "outputs": [],
   "source": [
    "gbm_train_perf = '_______' ## Complete the code to check the performance on oversampled train set\n",
    "gbm_train_perf"
   ]
  },
  {
   "cell_type": "code",
   "execution_count": null,
   "metadata": {
    "id": "wpcbbrBLJjS5"
   },
   "outputs": [],
   "source": [
    "gbm_val_perf = '_______' ## Complete the code to check the performance on validation set\n",
    "gbm_val_perf"
   ]
  },
  {
   "cell_type": "markdown",
   "metadata": {
    "id": "VbrQHwrKbp1C"
   },
   "source": [
    "### Tuning XGBoost using oversampled data"
   ]
  },
  {
   "cell_type": "markdown",
   "metadata": {
    "id": "Sp_kVMHxiahW"
   },
   "source": [
    "**Note**: You can choose to skip this section if XGBoost gives error."
   ]
  },
  {
   "cell_type": "code",
   "execution_count": null,
   "metadata": {
    "id": "ec8e6iVzbp1C"
   },
   "outputs": [],
   "source": [
    "%%time \n",
    "\n",
    "# defining model\n",
    "Model = XGBClassifier(random_state=1,eval_metric='logloss')\n",
    "\n",
    "#Parameter grid to pass in RandomSearchCV\n",
    "param_grid={'n_estimators':[150,200,250],'scale_pos_weight':[5,10], 'learning_rate':[0.1,0.2], 'gamma':[0,3,5], 'subsample':[0.8,0.9]}\n",
    "\n",
    "#Calling RandomizedSearchCV\n",
    "randomized_cv = RandomizedSearchCV(estimator=Model, param_distributions=param_grid, n_iter=50, n_jobs = -1, scoring=scorer, cv=5, random_state=1)\n",
    "\n",
    "#Fitting parameters in RandomizedSearchCV\n",
    "randomized_cv.'_______' ## Complete the code to fit the model on over sampled data\n",
    "\n",
    "print(\"Best parameters are {} with CV score={}:\" .format(randomized_cv.best_params_,randomized_cv.best_score_))"
   ]
  },
  {
   "cell_type": "code",
   "execution_count": null,
   "metadata": {
    "id": "NSio3khJbp1C",
    "scrolled": true
   },
   "outputs": [],
   "source": [
    "xgb2 = XGBClassifier(\n",
    "    random_state=1,\n",
    "    eval_metric=\"logloss\",\n",
    "    subsample=_______,\n",
    "    scale_pos_weight=_______,\n",
    "    n_estimators=_______,\n",
    "    learning_rate=_______,\n",
    "    gamma=_______,\n",
    ")## Complete the code with the best parameters obtained from tuning\n",
    "\n",
    "xgb2.'_______' ## Complete the code to fit the model on over sampled data"
   ]
  },
  {
   "cell_type": "code",
   "execution_count": null,
   "metadata": {
    "id": "hDzHR8Pwbp1D"
   },
   "outputs": [],
   "source": [
    "xgb2_train_perf =  '_______' ## Complete the code to check the performance on oversampled train set\n",
    "xgb2_train_perf"
   ]
  },
  {
   "cell_type": "code",
   "execution_count": null,
   "metadata": {
    "id": "jiDRsOrMbp1D",
    "scrolled": false
   },
   "outputs": [],
   "source": [
    "xgb2_val_perf =  '_______' ## Complete the code to check the performance on validation set\n",
    "xgb2_val_perf"
   ]
  },
  {
   "cell_type": "markdown",
   "metadata": {
    "id": "uJsiURQL4eBn"
   },
   "source": [
    "**We have now tuned all the models, let's compare the performance of all tuned models and see which one is the best.**"
   ]
  },
  {
   "cell_type": "markdown",
   "metadata": {
    "id": "D9JNnpxa4jau"
   },
   "source": [
    "## Model performance comparison and choosing the final model"
   ]
  },
  {
   "cell_type": "code",
   "execution_count": null,
   "metadata": {
    "id": "TF1WfZZHbp1E"
   },
   "outputs": [],
   "source": [
    "# training performance comparison\n",
    "\n",
    "models_train_comp_df = pd.concat(\n",
    "    [\n",
    "        gbm_train_perf.T,\n",
    "        ada_train_perf.T,\n",
    "        rf2_train_perf.T,\n",
    "        xgb2_train_perf.T,\n",
    "    ],\n",
    "    axis=1,\n",
    ")\n",
    "models_train_comp_df.columns = [\n",
    "    \"Gradient Boosting tuned with oversampled data\",\n",
    "    \"AdaBoost classifier tuned with oversampled data\",\n",
    "    \"Random forest tuned with undersampled data\",\n",
    "    \"XGBoost tuned with oversampled data\",\n",
    "]\n",
    "print(\"Training performance comparison:\")\n",
    "models_train_comp_df"
   ]
  },
  {
   "cell_type": "code",
   "execution_count": null,
   "metadata": {
    "id": "0FgTXpsXbp1F"
   },
   "outputs": [],
   "source": [
    "# validation performance comparison\n",
    "\n",
    "'_______' ## Write the code to compare the performance on validation set"
   ]
  },
  {
   "cell_type": "markdown",
   "metadata": {
    "id": "PYS5m_mcbp1F"
   },
   "source": [
    "**Now we have our final model, so let's find out how our final model is performing on unseen test data.**"
   ]
  },
  {
   "cell_type": "code",
   "execution_count": null,
   "metadata": {
    "id": "rqgvz7e7bp1F"
   },
   "outputs": [],
   "source": [
    "# Let's check the performance on test set\n",
    "'_______' ## Write the code to check the performance of best model on test data"
   ]
  },
  {
   "cell_type": "markdown",
   "metadata": {
    "id": "J49s-TEB41JQ"
   },
   "source": [
    "### Feature Importances"
   ]
  },
  {
   "cell_type": "code",
   "execution_count": null,
   "metadata": {
    "id": "7Zk2dFRzbp1F"
   },
   "outputs": [],
   "source": [
    "feature_names = X_train.columns\n",
    "importances =  '_______' ## Complete the code to check the feature importance of the best model\n",
    "indices = np.argsort(importances)\n",
    "\n",
    "plt.figure(figsize=(12, 12))\n",
    "plt.title(\"Feature Importances\")\n",
    "plt.barh(range(len(indices)), importances[indices], color=\"violet\", align=\"center\")\n",
    "plt.yticks(range(len(indices)), [feature_names[i] for i in indices])\n",
    "plt.xlabel(\"Relative Importance\")\n",
    "plt.show()"
   ]
  },
  {
   "cell_type": "markdown",
   "metadata": {
    "id": "gohwGn0tbp1L"
   },
   "source": [
    "## Let's use Pipelines to build the final model"
   ]
  },
  {
   "cell_type": "markdown",
   "metadata": {
    "id": "euQoHofA5JBx"
   },
   "source": [
    "- Since we have only one datatype in the data, we don't need to use column transformer here"
   ]
  },
  {
   "cell_type": "code",
   "execution_count": null,
   "metadata": {
    "id": "xTB5oErrbp1L"
   },
   "outputs": [],
   "source": [
    "Pipeline_model = Pipeline('_______' ) ## Complete the code to create pipeline for the best model"
   ]
  },
  {
   "cell_type": "code",
   "execution_count": null,
   "metadata": {
    "id": "KVhk_Ga4bp1L"
   },
   "outputs": [],
   "source": [
    "# Separating target variable and other variables\n",
    "X1 = data.drop(columns=\"Target\")\n",
    "Y1 = data[\"Target\"]\n",
    "\n",
    "# Since we already have a separate test set, we don't need to divide data into train and test\n",
    "\n",
    "X_test1 = df_test.('_______') ##  Complete the code to drop target variable from test data\n",
    "y_test1 = df_test['_______'] ##  Complete the code to store target variable in y_test1\n"
   ]
  },
  {
   "cell_type": "code",
   "execution_count": null,
   "metadata": {
    "id": "esCUwy3ibp1L"
   },
   "outputs": [],
   "source": [
    "# We can't oversample/undersample data without doing missing value treatment, so let's first treat the missing values in the train set\n",
    "imputer = SimpleImputer(strategy=\"median\")\n",
    "X1 = imputer.fit_transform(X1)\n",
    "\n",
    "# We don't need to impute missing values in test set as it will be done inside pipeline"
   ]
  },
  {
   "cell_type": "markdown",
   "metadata": {
    "id": "xKYy2r85zBB7"
   },
   "source": [
    "**Note:** Please perform either oversampling or undersampling based on the final model chosen."
   ]
  },
  {
   "cell_type": "markdown",
   "metadata": {
    "id": "ILVQdGr2KNO0"
   },
   "source": [
    "If the best model is built on the oversampled data, uncomment and run the below code to perform oversampling"
   ]
  },
  {
   "cell_type": "code",
   "execution_count": null,
   "metadata": {
    "id": "wRhGqGEqbp1M"
   },
   "outputs": [],
   "source": [
    "# #code for oversampling on the data\n",
    "# # Synthetic Minority Over Sampling Technique\n",
    "# sm = SMOTE(sampling_strategy=1, k_neighbors=5, random_state=1)\n",
    "# X_over1, y_over1 = sm.fit_resample(X1, Y1)"
   ]
  },
  {
   "cell_type": "markdown",
   "metadata": {
    "id": "xFESt-LQKo_5"
   },
   "source": [
    "If the best model is built on the undersampled data, uncomment and run the below code to perform undersampling\n"
   ]
  },
  {
   "cell_type": "code",
   "execution_count": null,
   "metadata": {
    "id": "j1S2b6yUKmAz"
   },
   "outputs": [],
   "source": [
    "# # code for undersampling on the data\n",
    "# # Under Sampling Technique\n",
    "# rus = RandomUnderSampler(random_state=1, sampling_strategy=1)\n",
    "# X_train_un, y_train_un = rus.fit_resample(X_train, y_train)"
   ]
  },
  {
   "cell_type": "code",
   "execution_count": null,
   "metadata": {
    "id": "AWI12Lh5bp1M"
   },
   "outputs": [],
   "source": [
    "Pipeline_model.'_______' ##  Complete the code to fit the Model obtained from above step"
   ]
  },
  {
   "cell_type": "code",
   "execution_count": null,
   "metadata": {
    "id": "AlKakNj7592p"
   },
   "outputs": [],
   "source": [
    "Pipeline_model_test = '_______'  ## Complete the code to check the performance on test set\n",
    "Pipeline_model_test"
   ]
  },
  {
   "cell_type": "markdown",
   "metadata": {
    "id": "gxFmwam_bp1M"
   },
   "source": [
    "# Business Insights and Conclusions\n"
   ]
  },
  {
   "cell_type": "markdown",
   "metadata": {
    "id": "bc5SEIuJnyQm"
   },
   "source": [
    "- Best model and its performance\n",
    "- Important features\n",
    "- Additional points"
   ]
  },
  {
   "cell_type": "markdown",
   "metadata": {
    "id": "MyLBn7uE6LhP"
   },
   "source": [
    "***"
   ]
  }
 ],
 "metadata": {
  "colab": {
   "collapsed_sections": [
    "v_-uuGqH-qTt",
    "xxhpZv9y-qTw",
    "KQi5ygTC-qT1",
    "961px703qhLV",
    "5TcqcxbK-qT3",
    "xNr4bWoM-qT5",
    "Ch_TjRfF-qT5",
    "nUCorhch-qT4",
    "DhPuzWO7hmV8",
    "Lv7Bs8aUbp07",
    "sfvnghrACelD",
    "Bp8vC9MZbp09",
    "0J99-7Kubp09",
    "8Je_G2zN3VCF",
    "C91_6Swtbp1A",
    "fYLfDmHvbp1B",
    "2FtmPS7Ubp1D",
    "Dqj6dc38bp1E",
    "XoLT8ewJ5V2d",
    "D9JNnpxa4jau",
    "gohwGn0tbp1L",
    "gxFmwam_bp1M"
   ],
   "name": "MT_Project_LearnerNotebook_LowCode_MT_002.ipynb",
   "provenance": []
  },
  "kernelspec": {
   "display_name": "Python 3 (ipykernel)",
   "language": "python",
   "name": "python3"
  },
  "language_info": {
   "codemirror_mode": {
    "name": "ipython",
    "version": 3
   },
   "file_extension": ".py",
   "mimetype": "text/x-python",
   "name": "python",
   "nbconvert_exporter": "python",
   "pygments_lexer": "ipython3",
   "version": "3.11.3"
  }
 },
 "nbformat": 4,
 "nbformat_minor": 1
}
