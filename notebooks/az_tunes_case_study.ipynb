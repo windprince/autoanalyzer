{
  "nbformat": 4,
  "nbformat_minor": 0,
  "metadata": {
    "colab": {
      "name": "az_tunes_case_study.ipynb",
      "provenance": [],
      "collapsed_sections": [
        "VblaqCad2_7_",
        "TT7wHdlx7RAj",
        "CKcALZ5vkIif",
        "weykawdWkcie",
        "LSKyLGswkimQ",
        "il9ky3Wokucw",
        "nsYYsPmHk1lI",
        "-CL00f3Wk9pq",
        "Ujarg307lDeA",
        "lAJVq3y1lVkw",
        "Ql6njYpwmKvA",
        "-G9h7x6mmmKN",
        "_JTnRwXtyA5h",
        "gcqCKq-ByA5o",
        "aNR07BeDoa4o",
        "uHn2YaXdofNb",
        "jzs-dymiorV_",
        "-90e5zdqozrk",
        "mI-Hbv0opbbU",
        "hOC8yU8VpgBP"
      ]
    },
    "kernelspec": {
      "name": "python3",
      "display_name": "Python 3"
    },
    "language_info": {
      "name": "python"
    }
  },
  "cells": [
    {
      "cell_type": "markdown",
      "metadata": {
        "id": "bUGG-MKUj5qc"
      },
      "source": [
        "<center><p float=\"center\">\n",
        "  <img src=\"https://upload.wikimedia.org/wikipedia/commons/e/e9/4_RGB_McCombs_School_Brand_Branded.png\" width=\"300\" height=\"100\"/>\n",
        "  <img src=\"https://mma.prnewswire.com/media/1458111/Great_Learning_Logo.jpg?p=facebook\" width=\"200\" height=\"100\"/>\n",
        "</p></center>\n",
        "\n",
        "<h1><center><font size=10>Business Statistics</center></font></h1>\n",
        "<h1><center>Mentored Learning Session: Week 3</center></h1>\n",
        "\n",
        "\n"
      ]
    },
    {
      "cell_type": "markdown",
      "source": [
        "<center><img src=\"https://cdn.pixabay.com/photo/2015/09/21/00/54/plant-949111_960_720.jpg\" width=\"1000\" height=\"600\"></center>\n",
        "\n",
        "<b><h2><center>AZ Tunes Case Study</center></h2></b>"
      ],
      "metadata": {
        "id": "RcGmbCtB9VPe"
      }
    },
    {
      "cell_type": "markdown",
      "source": [
        "## Problem Statement\n",
        "\n",
        "\n",
        "\n",
        "\n"
      ],
      "metadata": {
        "id": "VblaqCad2_7_"
      }
    },
    {
      "cell_type": "markdown",
      "source": [
        "### Business Context\n",
        "\n",
        "AZ Tunes is a music streaming company and they analyze customer data to improve recommendations, playlists, and rollout special offers. Their persistent work to uncover and act upon evolving customer expectation has resulted in higher customer engagement time and subscription to their paid service. \n",
        "\n",
        "### Objective\n",
        "\n",
        "The Marketing team of AZ Tunes wants to rollout special offers through a new campaign. As a data scientist, your objective is to help the team design the campaign by providing the below data-driven inputs:\n",
        "\n",
        "* According to a study, the average weekly app engagement time of users in leading music services is around 6 hrs. Can we claim that the app engagement time of AZ tunes is better than this market standard?\n",
        "* The team wants to spend their budget on the age group which has the highest chance of subscribing as part of their campaign \n",
        "\n",
        "You need to perform statistical analysis on a sample of customer data and provide an evidence-based conclusion to help the marketing campaign succeed. \n",
        "\n",
        "### Data Dictionary\n",
        "\n",
        "For this task, you are provided with a random sample of 1000 users along with their age group & engagement time on the AZ tunes app.\n",
        "* user_id: Unique user-id of the user\n",
        "* age_group: Age-group that the user belongs to\n",
        "* subscription_status: Whether the user is a subscribed user or a non-subscribed user\n",
        "* enagement_time: Weekly average of app engagement time (in hrs) of the user\n",
        "\n",
        "\n",
        "### Solution Approach\n",
        "\n",
        "To solve the above problem, we need to answer 2 questions:\n",
        "* Is the average app engagement time of AZ Tunes significantly greater than the market average (6 hours)?\n",
        "* Is the difference in proportions of subscribers & non-subscribers (in 3 groups - under 18, 18-34, and over 35) significantly different to conclude that a particular group is most likely to subscribe?\n"
      ],
      "metadata": {
        "id": "aOIkWvJsFmOl"
      }
    },
    {
      "cell_type": "markdown",
      "source": [
        "## Import necessary packages and the data"
      ],
      "metadata": {
        "id": "TT7wHdlx7RAj"
      }
    },
    {
      "cell_type": "code",
      "source": [
        "# Libraries to help with reading and manipulating data\n",
        "import numpy as np\n",
        "import pandas as pd\n",
        "\n",
        "# Libraries to help with data visualization\n",
        "import seaborn as sns\n",
        "import matplotlib.pyplot as plt\n",
        "%matplotlib inline\n",
        "\n",
        "# Library to help with statistical analysis\n",
        "import scipy.stats as stats"
      ],
      "metadata": {
        "id": "PjrDjape7OHB"
      },
      "execution_count": null,
      "outputs": []
    },
    {
      "cell_type": "code",
      "source": [
        "# import the scipy package and check the version to be sure that the version is above 1.6.1 so that some updated functions do not throw error.\n",
        "import scipy\n",
        "scipy.__version__"
      ],
      "metadata": {
        "colab": {
          "base_uri": "https://localhost:8080/",
          "height": 35
        },
        "id": "xjK29bOK8xU_",
        "outputId": "93823807-a7ff-4b49-9332-98e36cd297f3"
      },
      "execution_count": null,
      "outputs": [
        {
          "output_type": "execute_result",
          "data": {
            "text/plain": [
              "'1.7.3'"
            ],
            "application/vnd.google.colaboratory.intrinsic+json": {
              "type": "string"
            }
          },
          "metadata": {},
          "execution_count": 3
        }
      ]
    },
    {
      "cell_type": "code",
      "source": [
        "# if the scipy version is lower than 1.6.1, then uncomment the below code to update the scipy package.\n",
        "#!pip install --upgrade scipy"
      ],
      "metadata": {
        "id": "zeWN6b6m9AYl"
      },
      "execution_count": null,
      "outputs": []
    },
    {
      "cell_type": "markdown",
      "source": [
        "## Loading the dataset"
      ],
      "metadata": {
        "id": "CKcALZ5vkIif"
      }
    },
    {
      "cell_type": "code",
      "source": [
        "# read the dataset\n",
        "df=pd.read_csv('az_tunes.csv')"
      ],
      "metadata": {
        "id": "QXQzYLp_IQ8i"
      },
      "execution_count": null,
      "outputs": []
    },
    {
      "cell_type": "markdown",
      "source": [
        "## Data Overview"
      ],
      "metadata": {
        "id": "weykawdWkcie"
      }
    },
    {
      "cell_type": "markdown",
      "source": [
        "The initial steps to get an overview of any dataset is to: \n",
        "- observe the first few rows of the dataset, to check whether the dataset has been loaded properly or not\n",
        "- get information about the number of rows and columns in the dataset\n",
        "- find out the data types of the columns to ensure that data is stored in the preferred format and the value of each property is as expected.\n",
        "- check the statistical summary of the dataset to get an overview of the numerical columns of the data"
      ],
      "metadata": {
        "id": "GidNtosmkdz6"
      }
    },
    {
      "cell_type": "markdown",
      "source": [
        "#### Displaying the first few rows of the dataset"
      ],
      "metadata": {
        "id": "LSKyLGswkimQ"
      }
    },
    {
      "cell_type": "code",
      "source": [
        "# view the dataset\n",
        "df.head()"
      ],
      "metadata": {
        "colab": {
          "base_uri": "https://localhost:8080/",
          "height": 206
        },
        "id": "4aUyNZphHGL6",
        "outputId": "eea1cfb3-48f6-450e-97c7-dd0e17b7d687"
      },
      "execution_count": null,
      "outputs": [
        {
          "output_type": "execute_result",
          "data": {
            "text/html": [
              "\n",
              "  <div id=\"df-c0541a8d-85df-44a5-a59c-e0f2f52bfce0\">\n",
              "    <div class=\"colab-df-container\">\n",
              "      <div>\n",
              "<style scoped>\n",
              "    .dataframe tbody tr th:only-of-type {\n",
              "        vertical-align: middle;\n",
              "    }\n",
              "\n",
              "    .dataframe tbody tr th {\n",
              "        vertical-align: top;\n",
              "    }\n",
              "\n",
              "    .dataframe thead th {\n",
              "        text-align: right;\n",
              "    }\n",
              "</style>\n",
              "<table border=\"1\" class=\"dataframe\">\n",
              "  <thead>\n",
              "    <tr style=\"text-align: right;\">\n",
              "      <th></th>\n",
              "      <th>user_id</th>\n",
              "      <th>age_group</th>\n",
              "      <th>subscription_status</th>\n",
              "      <th>engagement_time</th>\n",
              "    </tr>\n",
              "  </thead>\n",
              "  <tbody>\n",
              "    <tr>\n",
              "      <th>0</th>\n",
              "      <td>14451</td>\n",
              "      <td>18-34</td>\n",
              "      <td>subscribed</td>\n",
              "      <td>5.55</td>\n",
              "    </tr>\n",
              "    <tr>\n",
              "      <th>1</th>\n",
              "      <td>18386</td>\n",
              "      <td>under 18</td>\n",
              "      <td>subscribed</td>\n",
              "      <td>5.12</td>\n",
              "    </tr>\n",
              "    <tr>\n",
              "      <th>2</th>\n",
              "      <td>12305</td>\n",
              "      <td>35 and over</td>\n",
              "      <td>not_subscribed</td>\n",
              "      <td>4.25</td>\n",
              "    </tr>\n",
              "    <tr>\n",
              "      <th>3</th>\n",
              "      <td>17546</td>\n",
              "      <td>18-34</td>\n",
              "      <td>subscribed</td>\n",
              "      <td>8.54</td>\n",
              "    </tr>\n",
              "    <tr>\n",
              "      <th>4</th>\n",
              "      <td>15399</td>\n",
              "      <td>18-34</td>\n",
              "      <td>subscribed</td>\n",
              "      <td>12.12</td>\n",
              "    </tr>\n",
              "  </tbody>\n",
              "</table>\n",
              "</div>\n",
              "      <button class=\"colab-df-convert\" onclick=\"convertToInteractive('df-c0541a8d-85df-44a5-a59c-e0f2f52bfce0')\"\n",
              "              title=\"Convert this dataframe to an interactive table.\"\n",
              "              style=\"display:none;\">\n",
              "        \n",
              "  <svg xmlns=\"http://www.w3.org/2000/svg\" height=\"24px\"viewBox=\"0 0 24 24\"\n",
              "       width=\"24px\">\n",
              "    <path d=\"M0 0h24v24H0V0z\" fill=\"none\"/>\n",
              "    <path d=\"M18.56 5.44l.94 2.06.94-2.06 2.06-.94-2.06-.94-.94-2.06-.94 2.06-2.06.94zm-11 1L8.5 8.5l.94-2.06 2.06-.94-2.06-.94L8.5 2.5l-.94 2.06-2.06.94zm10 10l.94 2.06.94-2.06 2.06-.94-2.06-.94-.94-2.06-.94 2.06-2.06.94z\"/><path d=\"M17.41 7.96l-1.37-1.37c-.4-.4-.92-.59-1.43-.59-.52 0-1.04.2-1.43.59L10.3 9.45l-7.72 7.72c-.78.78-.78 2.05 0 2.83L4 21.41c.39.39.9.59 1.41.59.51 0 1.02-.2 1.41-.59l7.78-7.78 2.81-2.81c.8-.78.8-2.07 0-2.86zM5.41 20L4 18.59l7.72-7.72 1.47 1.35L5.41 20z\"/>\n",
              "  </svg>\n",
              "      </button>\n",
              "      \n",
              "  <style>\n",
              "    .colab-df-container {\n",
              "      display:flex;\n",
              "      flex-wrap:wrap;\n",
              "      gap: 12px;\n",
              "    }\n",
              "\n",
              "    .colab-df-convert {\n",
              "      background-color: #E8F0FE;\n",
              "      border: none;\n",
              "      border-radius: 50%;\n",
              "      cursor: pointer;\n",
              "      display: none;\n",
              "      fill: #1967D2;\n",
              "      height: 32px;\n",
              "      padding: 0 0 0 0;\n",
              "      width: 32px;\n",
              "    }\n",
              "\n",
              "    .colab-df-convert:hover {\n",
              "      background-color: #E2EBFA;\n",
              "      box-shadow: 0px 1px 2px rgba(60, 64, 67, 0.3), 0px 1px 3px 1px rgba(60, 64, 67, 0.15);\n",
              "      fill: #174EA6;\n",
              "    }\n",
              "\n",
              "    [theme=dark] .colab-df-convert {\n",
              "      background-color: #3B4455;\n",
              "      fill: #D2E3FC;\n",
              "    }\n",
              "\n",
              "    [theme=dark] .colab-df-convert:hover {\n",
              "      background-color: #434B5C;\n",
              "      box-shadow: 0px 1px 3px 1px rgba(0, 0, 0, 0.15);\n",
              "      filter: drop-shadow(0px 1px 2px rgba(0, 0, 0, 0.3));\n",
              "      fill: #FFFFFF;\n",
              "    }\n",
              "  </style>\n",
              "\n",
              "      <script>\n",
              "        const buttonEl =\n",
              "          document.querySelector('#df-c0541a8d-85df-44a5-a59c-e0f2f52bfce0 button.colab-df-convert');\n",
              "        buttonEl.style.display =\n",
              "          google.colab.kernel.accessAllowed ? 'block' : 'none';\n",
              "\n",
              "        async function convertToInteractive(key) {\n",
              "          const element = document.querySelector('#df-c0541a8d-85df-44a5-a59c-e0f2f52bfce0');\n",
              "          const dataTable =\n",
              "            await google.colab.kernel.invokeFunction('convertToInteractive',\n",
              "                                                     [key], {});\n",
              "          if (!dataTable) return;\n",
              "\n",
              "          const docLinkHtml = 'Like what you see? Visit the ' +\n",
              "            '<a target=\"_blank\" href=https://colab.research.google.com/notebooks/data_table.ipynb>data table notebook</a>'\n",
              "            + ' to learn more about interactive tables.';\n",
              "          element.innerHTML = '';\n",
              "          dataTable['output_type'] = 'display_data';\n",
              "          await google.colab.output.renderOutput(dataTable, element);\n",
              "          const docLink = document.createElement('div');\n",
              "          docLink.innerHTML = docLinkHtml;\n",
              "          element.appendChild(docLink);\n",
              "        }\n",
              "      </script>\n",
              "    </div>\n",
              "  </div>\n",
              "  "
            ],
            "text/plain": [
              "   user_id    age_group subscription_status  engagement_time\n",
              "0    14451        18-34          subscribed             5.55\n",
              "1    18386     under 18          subscribed             5.12\n",
              "2    12305  35 and over      not_subscribed             4.25\n",
              "3    17546        18-34          subscribed             8.54\n",
              "4    15399        18-34          subscribed            12.12"
            ]
          },
          "metadata": {},
          "execution_count": 6
        }
      ]
    },
    {
      "cell_type": "markdown",
      "source": [
        "#### Checking the shape of the dataset"
      ],
      "metadata": {
        "id": "il9ky3Wokucw"
      }
    },
    {
      "cell_type": "code",
      "source": [
        "df.shape"
      ],
      "metadata": {
        "colab": {
          "base_uri": "https://localhost:8080/"
        },
        "id": "nGVwdzneplzC",
        "outputId": "c8c9f778-d743-43ae-dfb4-af904c2a7442"
      },
      "execution_count": null,
      "outputs": [
        {
          "output_type": "execute_result",
          "data": {
            "text/plain": [
              "(1000, 4)"
            ]
          },
          "metadata": {},
          "execution_count": 6
        }
      ]
    },
    {
      "cell_type": "markdown",
      "source": [
        "The dataset contains 1000 rows and 4 columns."
      ],
      "metadata": {
        "id": "RdDT0kTpqJR3"
      }
    },
    {
      "cell_type": "markdown",
      "source": [
        "#### Checking the data types of the columns for the dataset"
      ],
      "metadata": {
        "id": "nsYYsPmHk1lI"
      }
    },
    {
      "cell_type": "code",
      "source": [
        "df.info()"
      ],
      "metadata": {
        "colab": {
          "base_uri": "https://localhost:8080/"
        },
        "id": "Ny0K9Z5YqUQ_",
        "outputId": "a11e6ae5-d80d-41b9-f5f1-da2b607efa4f"
      },
      "execution_count": null,
      "outputs": [
        {
          "output_type": "stream",
          "name": "stdout",
          "text": [
            "<class 'pandas.core.frame.DataFrame'>\n",
            "RangeIndex: 1000 entries, 0 to 999\n",
            "Data columns (total 4 columns):\n",
            " #   Column               Non-Null Count  Dtype  \n",
            "---  ------               --------------  -----  \n",
            " 0   user_id              1000 non-null   int64  \n",
            " 1   age_group            1000 non-null   object \n",
            " 2   subscription_status  1000 non-null   object \n",
            " 3   engagement_time      1000 non-null   float64\n",
            "dtypes: float64(1), int64(1), object(2)\n",
            "memory usage: 31.4+ KB\n"
          ]
        }
      ]
    },
    {
      "cell_type": "markdown",
      "source": [
        "There are 2 categorical columns and two numeric columns in the dataset."
      ],
      "metadata": {
        "id": "bzukDl3CqYET"
      }
    },
    {
      "cell_type": "markdown",
      "source": [
        "#### Check for missing values"
      ],
      "metadata": {
        "id": "-CL00f3Wk9pq"
      }
    },
    {
      "cell_type": "code",
      "source": [
        "df.isna().sum()   "
      ],
      "metadata": {
        "colab": {
          "base_uri": "https://localhost:8080/"
        },
        "id": "USVBgBIZqedd",
        "outputId": "18e89427-1af5-4a2f-9d1f-461d588fd892"
      },
      "execution_count": null,
      "outputs": [
        {
          "output_type": "execute_result",
          "data": {
            "text/plain": [
              "user_id                0\n",
              "age_group              0\n",
              "subscription_status    0\n",
              "engagement_time        0\n",
              "dtype: int64"
            ]
          },
          "metadata": {},
          "execution_count": 8
        }
      ]
    },
    {
      "cell_type": "markdown",
      "source": [
        "There are no missing values in the data."
      ],
      "metadata": {
        "id": "4XYjdRP6qhPz"
      }
    },
    {
      "cell_type": "markdown",
      "source": [
        "#### Statistical summary of the dataset"
      ],
      "metadata": {
        "id": "Ujarg307lDeA"
      }
    },
    {
      "cell_type": "code",
      "source": [
        "df.describe()"
      ],
      "metadata": {
        "colab": {
          "base_uri": "https://localhost:8080/",
          "height": 300
        },
        "id": "r__Rhjx8qj34",
        "outputId": "c4f4ee2a-fc33-48bc-fd5e-e18f27eba19d"
      },
      "execution_count": null,
      "outputs": [
        {
          "output_type": "execute_result",
          "data": {
            "text/plain": [
              "            user_id  engagement_time\n",
              "count   1000.000000      1000.000000\n",
              "mean   15024.803000         6.180030\n",
              "std     2927.044957         2.757166\n",
              "min    10000.000000         0.220000\n",
              "25%    12452.500000         3.917500\n",
              "50%    15184.000000         6.000000\n",
              "75%    17481.250000         8.110000\n",
              "max    19976.000000        16.980000"
            ],
            "text/html": [
              "\n",
              "  <div id=\"df-4ebb7dd7-d258-43bd-a01b-fb787b104271\">\n",
              "    <div class=\"colab-df-container\">\n",
              "      <div>\n",
              "<style scoped>\n",
              "    .dataframe tbody tr th:only-of-type {\n",
              "        vertical-align: middle;\n",
              "    }\n",
              "\n",
              "    .dataframe tbody tr th {\n",
              "        vertical-align: top;\n",
              "    }\n",
              "\n",
              "    .dataframe thead th {\n",
              "        text-align: right;\n",
              "    }\n",
              "</style>\n",
              "<table border=\"1\" class=\"dataframe\">\n",
              "  <thead>\n",
              "    <tr style=\"text-align: right;\">\n",
              "      <th></th>\n",
              "      <th>user_id</th>\n",
              "      <th>engagement_time</th>\n",
              "    </tr>\n",
              "  </thead>\n",
              "  <tbody>\n",
              "    <tr>\n",
              "      <th>count</th>\n",
              "      <td>1000.000000</td>\n",
              "      <td>1000.000000</td>\n",
              "    </tr>\n",
              "    <tr>\n",
              "      <th>mean</th>\n",
              "      <td>15024.803000</td>\n",
              "      <td>6.180030</td>\n",
              "    </tr>\n",
              "    <tr>\n",
              "      <th>std</th>\n",
              "      <td>2927.044957</td>\n",
              "      <td>2.757166</td>\n",
              "    </tr>\n",
              "    <tr>\n",
              "      <th>min</th>\n",
              "      <td>10000.000000</td>\n",
              "      <td>0.220000</td>\n",
              "    </tr>\n",
              "    <tr>\n",
              "      <th>25%</th>\n",
              "      <td>12452.500000</td>\n",
              "      <td>3.917500</td>\n",
              "    </tr>\n",
              "    <tr>\n",
              "      <th>50%</th>\n",
              "      <td>15184.000000</td>\n",
              "      <td>6.000000</td>\n",
              "    </tr>\n",
              "    <tr>\n",
              "      <th>75%</th>\n",
              "      <td>17481.250000</td>\n",
              "      <td>8.110000</td>\n",
              "    </tr>\n",
              "    <tr>\n",
              "      <th>max</th>\n",
              "      <td>19976.000000</td>\n",
              "      <td>16.980000</td>\n",
              "    </tr>\n",
              "  </tbody>\n",
              "</table>\n",
              "</div>\n",
              "      <button class=\"colab-df-convert\" onclick=\"convertToInteractive('df-4ebb7dd7-d258-43bd-a01b-fb787b104271')\"\n",
              "              title=\"Convert this dataframe to an interactive table.\"\n",
              "              style=\"display:none;\">\n",
              "        \n",
              "  <svg xmlns=\"http://www.w3.org/2000/svg\" height=\"24px\"viewBox=\"0 0 24 24\"\n",
              "       width=\"24px\">\n",
              "    <path d=\"M0 0h24v24H0V0z\" fill=\"none\"/>\n",
              "    <path d=\"M18.56 5.44l.94 2.06.94-2.06 2.06-.94-2.06-.94-.94-2.06-.94 2.06-2.06.94zm-11 1L8.5 8.5l.94-2.06 2.06-.94-2.06-.94L8.5 2.5l-.94 2.06-2.06.94zm10 10l.94 2.06.94-2.06 2.06-.94-2.06-.94-.94-2.06-.94 2.06-2.06.94z\"/><path d=\"M17.41 7.96l-1.37-1.37c-.4-.4-.92-.59-1.43-.59-.52 0-1.04.2-1.43.59L10.3 9.45l-7.72 7.72c-.78.78-.78 2.05 0 2.83L4 21.41c.39.39.9.59 1.41.59.51 0 1.02-.2 1.41-.59l7.78-7.78 2.81-2.81c.8-.78.8-2.07 0-2.86zM5.41 20L4 18.59l7.72-7.72 1.47 1.35L5.41 20z\"/>\n",
              "  </svg>\n",
              "      </button>\n",
              "      \n",
              "  <style>\n",
              "    .colab-df-container {\n",
              "      display:flex;\n",
              "      flex-wrap:wrap;\n",
              "      gap: 12px;\n",
              "    }\n",
              "\n",
              "    .colab-df-convert {\n",
              "      background-color: #E8F0FE;\n",
              "      border: none;\n",
              "      border-radius: 50%;\n",
              "      cursor: pointer;\n",
              "      display: none;\n",
              "      fill: #1967D2;\n",
              "      height: 32px;\n",
              "      padding: 0 0 0 0;\n",
              "      width: 32px;\n",
              "    }\n",
              "\n",
              "    .colab-df-convert:hover {\n",
              "      background-color: #E2EBFA;\n",
              "      box-shadow: 0px 1px 2px rgba(60, 64, 67, 0.3), 0px 1px 3px 1px rgba(60, 64, 67, 0.15);\n",
              "      fill: #174EA6;\n",
              "    }\n",
              "\n",
              "    [theme=dark] .colab-df-convert {\n",
              "      background-color: #3B4455;\n",
              "      fill: #D2E3FC;\n",
              "    }\n",
              "\n",
              "    [theme=dark] .colab-df-convert:hover {\n",
              "      background-color: #434B5C;\n",
              "      box-shadow: 0px 1px 3px 1px rgba(0, 0, 0, 0.15);\n",
              "      filter: drop-shadow(0px 1px 2px rgba(0, 0, 0, 0.3));\n",
              "      fill: #FFFFFF;\n",
              "    }\n",
              "  </style>\n",
              "\n",
              "      <script>\n",
              "        const buttonEl =\n",
              "          document.querySelector('#df-4ebb7dd7-d258-43bd-a01b-fb787b104271 button.colab-df-convert');\n",
              "        buttonEl.style.display =\n",
              "          google.colab.kernel.accessAllowed ? 'block' : 'none';\n",
              "\n",
              "        async function convertToInteractive(key) {\n",
              "          const element = document.querySelector('#df-4ebb7dd7-d258-43bd-a01b-fb787b104271');\n",
              "          const dataTable =\n",
              "            await google.colab.kernel.invokeFunction('convertToInteractive',\n",
              "                                                     [key], {});\n",
              "          if (!dataTable) return;\n",
              "\n",
              "          const docLinkHtml = 'Like what you see? Visit the ' +\n",
              "            '<a target=\"_blank\" href=https://colab.research.google.com/notebooks/data_table.ipynb>data table notebook</a>'\n",
              "            + ' to learn more about interactive tables.';\n",
              "          element.innerHTML = '';\n",
              "          dataTable['output_type'] = 'display_data';\n",
              "          await google.colab.output.renderOutput(dataTable, element);\n",
              "          const docLink = document.createElement('div');\n",
              "          docLink.innerHTML = docLinkHtml;\n",
              "          element.appendChild(docLink);\n",
              "        }\n",
              "      </script>\n",
              "    </div>\n",
              "  </div>\n",
              "  "
            ]
          },
          "metadata": {},
          "execution_count": 9
        }
      ]
    },
    {
      "cell_type": "markdown",
      "source": [
        "* The user_id is a column consisting of unique user-ids.\n",
        "* The mean engagement-time is 6.18 hrs, while the median engagement-time is 6 hrs."
      ],
      "metadata": {
        "id": "VawFEhyjqw14"
      }
    },
    {
      "cell_type": "markdown",
      "source": [
        "## One Sample t-test"
      ],
      "metadata": {
        "id": "NfItwPeuGzSR"
      }
    },
    {
      "cell_type": "markdown",
      "source": [
        "**Is the average app engagement time of AZ Tunes significantly greater than the market average (6 hours)?**"
      ],
      "metadata": {
        "id": "TeMyH9IBXvzP"
      }
    },
    {
      "cell_type": "markdown",
      "source": [
        "To visualize the distribution of engagement-time, we can plot a distribution plot."
      ],
      "metadata": {
        "id": "M-Wbqalt0zCz"
      }
    },
    {
      "cell_type": "code",
      "source": [
        "# plot the distribution plot of engagement-time\n",
        "print('Sample mean:', np.round(df.engagement_time.mean(),2))\n",
        "sns.displot(df.engagement_time)\n",
        "plt.show()"
      ],
      "metadata": {
        "colab": {
          "base_uri": "https://localhost:8080/",
          "height": 386
        },
        "outputId": "918a68a5-c023-4f9b-adbd-98869a37c89b",
        "id": "eRqz3qNN0zC6"
      },
      "execution_count": null,
      "outputs": [
        {
          "output_type": "stream",
          "name": "stdout",
          "text": [
            "Sample mean: 6.18\n"
          ]
        },
        {
          "output_type": "display_data",
          "data": {
            "image/png": "[encoded data removed]",
            "text/plain": [
              "<Figure size 360x360 with 1 Axes>"
            ]
          },
          "metadata": {
            "needs_background": "light"
          }
        }
      ]
    },
    {
      "cell_type": "markdown",
      "source": [
        "* The distribution looks a little skewed to the right. "
      ],
      "metadata": {
        "id": "1TbJGtFL0zC6"
      }
    },
    {
      "cell_type": "markdown",
      "source": [
        "### Step 1: Define null and alternative hypotheses"
      ],
      "metadata": {
        "id": "lAJVq3y1lVkw"
      }
    },
    {
      "cell_type": "markdown",
      "source": [
        "Let's frame the null and alternative hypothesis based on the above claim can be formulated as:"
      ],
      "metadata": {
        "id": "PwAc9e9RtPr7"
      }
    },
    {
      "cell_type": "markdown",
      "source": [
        "> $H_0:$ The mean app engagement time of AZ Tunes is less than or equal to 6 hrs. <br>\n",
        "\n",
        "> $H_a:$ The mean app engagement time of AZ Tunes is greater than 6 hrs.\n",
        "\n",
        "Let $\\mu$ be the mean app engagement time of AZ Tunes\n",
        "\n",
        "Mathematically, the above formulated hypotheses can be written as:\n",
        "\n",
        ">$H_0: \\mu \\le 6 $ <br>\n",
        "$H_a: \\mu > 6 $"
      ],
      "metadata": {
        "id": "MZXeez-AtfCt"
      }
    },
    {
      "cell_type": "markdown",
      "source": [
        "### Step 2: Select Appropriate test"
      ],
      "metadata": {
        "id": "Ql6njYpwmKvA"
      }
    },
    {
      "cell_type": "markdown",
      "source": [
        "This is a case of a one-tailed test for the significance of a single mean. As the population standard deviation is unknown, a one-sample t-test will be appropriate to test the formulated hypotheses."
      ],
      "metadata": {
        "id": "AbtWVcAWst2t"
      }
    },
    {
      "cell_type": "markdown",
      "source": [
        "In a **one sample t-test**, we compare a sample mean with a hypothesized population mean to check if the sample mean differs significantly from the population mean. \n",
        "\n",
        "We are provided that the sample is randomly selected and we assume that it has come from a normally distributed population."
      ],
      "metadata": {
        "id": "PLt_-mNYmZZ-"
      }
    },
    {
      "cell_type": "markdown",
      "source": [
        "### Step 3: Decide the significance level"
      ],
      "metadata": {
        "id": "-G9h7x6mmmKN"
      }
    },
    {
      "cell_type": "markdown",
      "source": [
        "Let's set the level of significane (alpha) as 0.05"
      ],
      "metadata": {
        "id": "yyD5PGrl1ARK"
      }
    },
    {
      "cell_type": "markdown",
      "source": [
        "### Step 4: Calculate the p-value"
      ],
      "metadata": {
        "id": "WTyGAN-KvlEB"
      }
    },
    {
      "cell_type": "markdown",
      "source": [
        "- We will use the `ttest_1samp()` function from the `scipy.stats` library to perform a one-sample t-test.\n",
        "- The `ttest_1samp()` function takes the sample observations, hypothesized population mean and the direction of the alternative hypothesis as input and returns the test statistic and the p-value for the test. \n",
        "    - The sample observations are the values of app engagement time in the dataset.\n",
        "    - The hypotheisized population mean, as provided in the problem statement and defined in the formulated hypotheses is 6 hours\n",
        "    - As it is a one-tailed test towards the right, we will set the argument `alternative = 'greater'`"
      ],
      "metadata": {
        "id": "hQnSjJ9InCKL"
      }
    },
    {
      "cell_type": "code",
      "source": [
        "hyp_mean = 6\n",
        "t_stat, p_value = stats.ttest_1samp(df['engagement_time'], hyp_mean, alternative='greater') # alternative argument is used to specify the tail of the test.\n",
        "\n",
        "print(\"Test Statistic =\",t_stat)\n",
        "print(\"p-value =\",p_value)"
      ],
      "metadata": {
        "colab": {
          "base_uri": "https://localhost:8080/"
        },
        "id": "xLuXkubnvunK",
        "outputId": "3fbe110b-a329-4f7d-e891-01f670bab5bd"
      },
      "execution_count": null,
      "outputs": [
        {
          "output_type": "stream",
          "name": "stdout",
          "text": [
            "Test Statistic = 2.064818723238125\n",
            "p-value = 0.019598877431817582\n"
          ]
        }
      ]
    },
    {
      "cell_type": "markdown",
      "source": [
        "* Note: The type of test (one-tailed/two-tailed) has an effect on the p-value. The alternative argument is set to '**greater**' as our alternative hypothesis states that mean app engagement time of AZ Tunes is **greater** than the market average. "
      ],
      "metadata": {
        "id": "aETFysV6-ywq"
      }
    },
    {
      "cell_type": "markdown",
      "source": [
        "**The test statistic follows a t distribution.**\n",
        "\n",
        "Let's plot the distribution of the t-test statistic and see where the computed test statistic lies in the plot."
      ],
      "metadata": {
        "id": "U_6YzRamYkPM"
      }
    },
    {
      "cell_type": "code",
      "source": [
        "# plot the t-stat distribution\n",
        "# import the required function\n",
        "from scipy.stats import t\n",
        "\n",
        "# plotting the distribution of t test statistic along with the computed test statistic\n",
        "# We are plotting the distributions here to better visualize the calculations\n",
        "x = np.linspace(-4, 4, 100) # create an array of 100 numbers starting from -4 and ending at 4\n",
        "plt.plot(x, t.pdf(x,df=len(df)-1)) # plot the pdf of the t distribution with n-1 degrees of freedom\n",
        "plt.axvline(x = t_stat, c = 'r') # draw a vertical red line through the mentioned point\n",
        "plt.show() # display the plot"
      ],
      "metadata": {
        "colab": {
          "base_uri": "https://localhost:8080/",
          "height": 265
        },
        "id": "pUJVfIeRFVIr",
        "outputId": "1cf8f095-7022-463e-a009-d6b724a757f1"
      },
      "execution_count": null,
      "outputs": [
        {
          "output_type": "display_data",
          "data": {
            "image/png": "[encoded data removed]",
            "text/plain": [
              "<Figure size 432x288 with 1 Axes>"
            ]
          },
          "metadata": {
            "needs_background": "light"
          }
        }
      ]
    },
    {
      "cell_type": "markdown",
      "source": [
        "### Step 5: Compare the p-value with $\\alpha$"
      ],
      "metadata": {
        "id": "_JTnRwXtyA5h"
      }
    },
    {
      "cell_type": "code",
      "source": [
        "# print the conclusion based on p-value\n",
        "if p_value < 0.05:\n",
        "    print(f'As the p-value {p_value} is less than the level of significance, we reject the null hypothesis.')\n",
        "else:\n",
        "    print(f'As the p-value {p_value} is greater than the level of significance, we fail to reject the null hypothesis.')"
      ],
      "metadata": {
        "colab": {
          "base_uri": "https://localhost:8080/"
        },
        "outputId": "48bf2230-d04a-449f-b82d-949086f5920e",
        "id": "UDAN-uOuyA5n"
      },
      "execution_count": null,
      "outputs": [
        {
          "output_type": "stream",
          "name": "stdout",
          "text": [
            "As the p-value 0.019598877431817582 is less than the level of significance, we reject the null hypothesis.\n"
          ]
        }
      ]
    },
    {
      "cell_type": "markdown",
      "source": [
        "### Step 6: Draw Inference"
      ],
      "metadata": {
        "id": "gcqCKq-ByA5o"
      }
    },
    {
      "cell_type": "markdown",
      "source": [
        "Since the p-value is less than the 5% significance level, we reject the null hypothesis. Hence, we have enough statistical evidence to say that the mean app engagement time of AZ tunes is greater than the market average (6 hrs)."
      ],
      "metadata": {
        "id": "76f9vNtanw0T"
      }
    },
    {
      "cell_type": "markdown",
      "source": [
        "## Chi-square Test for Independence"
      ],
      "metadata": {
        "id": "tDQeaK5p_wJu"
      }
    },
    {
      "cell_type": "markdown",
      "source": [
        "**Is the difference in proportions of subscribers & non-subscribers (in 3 groups - under 18, 18-34, and over 35) significantly different to conclude that a particular group is most likely to subscribe?**"
      ],
      "metadata": {
        "id": "w1el85qXZerD"
      }
    },
    {
      "cell_type": "markdown",
      "source": [
        "Since both the concerned variables are categorical in nature, we can use a contingency table and a stacked bar graph to visually inspect the data.\n",
        "\n",
        "- A contingency table is a tabular representation of categorical data that shows the number of observations for combinations of values between two categorical variables, say X and Y\n",
        "- Each cell in the contingency table represents a combination of X-Y values\n",
        "\n",
        "The pandas [crosstab()](https://pandas.pydata.org/docs/reference/api/pandas.crosstab.html) function is used to create a contingency table between two categorical variables from a dataframe. The syntax of the function is:\n",
        "\n",
        "`pd.crosstab(index, columns, margins=False, normalize=False)`\n",
        "\n",
        "where\n",
        "- *index*: Values to group by in the rows\n",
        "- *columns*: Values to group by in the columns\n",
        "- *margins*: Whether to add row/column sub-totals. Default value is False\n",
        "- *normalize*: Whether to normalize the value-counts. Default value is False\n",
        "\n"
      ],
      "metadata": {
        "id": "mVuYMLXFqf7I"
      }
    },
    {
      "cell_type": "code",
      "source": [
        "# create a contingency table to tabulate the frequencies of the two categorical variables\n",
        "pd.crosstab(df.age_group,df.subscription_status,margins=True)"
      ],
      "metadata": {
        "colab": {
          "base_uri": "https://localhost:8080/",
          "height": 206
        },
        "id": "ZfZTR65vyhUx",
        "outputId": "dd6688d8-fc81-42f2-b2d2-fe975744c73e"
      },
      "execution_count": null,
      "outputs": [
        {
          "output_type": "execute_result",
          "data": {
            "text/html": [
              "\n",
              "  <div id=\"df-d24bf57f-ba02-4c01-bf9e-3965eb894b71\">\n",
              "    <div class=\"colab-df-container\">\n",
              "      <div>\n",
              "<style scoped>\n",
              "    .dataframe tbody tr th:only-of-type {\n",
              "        vertical-align: middle;\n",
              "    }\n",
              "\n",
              "    .dataframe tbody tr th {\n",
              "        vertical-align: top;\n",
              "    }\n",
              "\n",
              "    .dataframe thead th {\n",
              "        text-align: right;\n",
              "    }\n",
              "</style>\n",
              "<table border=\"1\" class=\"dataframe\">\n",
              "  <thead>\n",
              "    <tr style=\"text-align: right;\">\n",
              "      <th>subscription_status</th>\n",
              "      <th>not_subscribed</th>\n",
              "      <th>subscribed</th>\n",
              "      <th>All</th>\n",
              "    </tr>\n",
              "    <tr>\n",
              "      <th>age_group</th>\n",
              "      <th></th>\n",
              "      <th></th>\n",
              "      <th></th>\n",
              "    </tr>\n",
              "  </thead>\n",
              "  <tbody>\n",
              "    <tr>\n",
              "      <th>18-34</th>\n",
              "      <td>103</td>\n",
              "      <td>262</td>\n",
              "      <td>365</td>\n",
              "    </tr>\n",
              "    <tr>\n",
              "      <th>35 and over</th>\n",
              "      <td>237</td>\n",
              "      <td>171</td>\n",
              "      <td>408</td>\n",
              "    </tr>\n",
              "    <tr>\n",
              "      <th>under 18</th>\n",
              "      <td>107</td>\n",
              "      <td>120</td>\n",
              "      <td>227</td>\n",
              "    </tr>\n",
              "    <tr>\n",
              "      <th>All</th>\n",
              "      <td>447</td>\n",
              "      <td>553</td>\n",
              "      <td>1000</td>\n",
              "    </tr>\n",
              "  </tbody>\n",
              "</table>\n",
              "</div>\n",
              "      <button class=\"colab-df-convert\" onclick=\"convertToInteractive('df-d24bf57f-ba02-4c01-bf9e-3965eb894b71')\"\n",
              "              title=\"Convert this dataframe to an interactive table.\"\n",
              "              style=\"display:none;\">\n",
              "        \n",
              "  <svg xmlns=\"http://www.w3.org/2000/svg\" height=\"24px\"viewBox=\"0 0 24 24\"\n",
              "       width=\"24px\">\n",
              "    <path d=\"M0 0h24v24H0V0z\" fill=\"none\"/>\n",
              "    <path d=\"M18.56 5.44l.94 2.06.94-2.06 2.06-.94-2.06-.94-.94-2.06-.94 2.06-2.06.94zm-11 1L8.5 8.5l.94-2.06 2.06-.94-2.06-.94L8.5 2.5l-.94 2.06-2.06.94zm10 10l.94 2.06.94-2.06 2.06-.94-2.06-.94-.94-2.06-.94 2.06-2.06.94z\"/><path d=\"M17.41 7.96l-1.37-1.37c-.4-.4-.92-.59-1.43-.59-.52 0-1.04.2-1.43.59L10.3 9.45l-7.72 7.72c-.78.78-.78 2.05 0 2.83L4 21.41c.39.39.9.59 1.41.59.51 0 1.02-.2 1.41-.59l7.78-7.78 2.81-2.81c.8-.78.8-2.07 0-2.86zM5.41 20L4 18.59l7.72-7.72 1.47 1.35L5.41 20z\"/>\n",
              "  </svg>\n",
              "      </button>\n",
              "      \n",
              "  <style>\n",
              "    .colab-df-container {\n",
              "      display:flex;\n",
              "      flex-wrap:wrap;\n",
              "      gap: 12px;\n",
              "    }\n",
              "\n",
              "    .colab-df-convert {\n",
              "      background-color: #E8F0FE;\n",
              "      border: none;\n",
              "      border-radius: 50%;\n",
              "      cursor: pointer;\n",
              "      display: none;\n",
              "      fill: #1967D2;\n",
              "      height: 32px;\n",
              "      padding: 0 0 0 0;\n",
              "      width: 32px;\n",
              "    }\n",
              "\n",
              "    .colab-df-convert:hover {\n",
              "      background-color: #E2EBFA;\n",
              "      box-shadow: 0px 1px 2px rgba(60, 64, 67, 0.3), 0px 1px 3px 1px rgba(60, 64, 67, 0.15);\n",
              "      fill: #174EA6;\n",
              "    }\n",
              "\n",
              "    [theme=dark] .colab-df-convert {\n",
              "      background-color: #3B4455;\n",
              "      fill: #D2E3FC;\n",
              "    }\n",
              "\n",
              "    [theme=dark] .colab-df-convert:hover {\n",
              "      background-color: #434B5C;\n",
              "      box-shadow: 0px 1px 3px 1px rgba(0, 0, 0, 0.15);\n",
              "      filter: drop-shadow(0px 1px 2px rgba(0, 0, 0, 0.3));\n",
              "      fill: #FFFFFF;\n",
              "    }\n",
              "  </style>\n",
              "\n",
              "      <script>\n",
              "        const buttonEl =\n",
              "          document.querySelector('#df-d24bf57f-ba02-4c01-bf9e-3965eb894b71 button.colab-df-convert');\n",
              "        buttonEl.style.display =\n",
              "          google.colab.kernel.accessAllowed ? 'block' : 'none';\n",
              "\n",
              "        async function convertToInteractive(key) {\n",
              "          const element = document.querySelector('#df-d24bf57f-ba02-4c01-bf9e-3965eb894b71');\n",
              "          const dataTable =\n",
              "            await google.colab.kernel.invokeFunction('convertToInteractive',\n",
              "                                                     [key], {});\n",
              "          if (!dataTable) return;\n",
              "\n",
              "          const docLinkHtml = 'Like what you see? Visit the ' +\n",
              "            '<a target=\"_blank\" href=https://colab.research.google.com/notebooks/data_table.ipynb>data table notebook</a>'\n",
              "            + ' to learn more about interactive tables.';\n",
              "          element.innerHTML = '';\n",
              "          dataTable['output_type'] = 'display_data';\n",
              "          await google.colab.output.renderOutput(dataTable, element);\n",
              "          const docLink = document.createElement('div');\n",
              "          docLink.innerHTML = docLinkHtml;\n",
              "          element.appendChild(docLink);\n",
              "        }\n",
              "      </script>\n",
              "    </div>\n",
              "  </div>\n",
              "  "
            ],
            "text/plain": [
              "subscription_status  not_subscribed  subscribed   All\n",
              "age_group                                            \n",
              "18-34                           103         262   365\n",
              "35 and over                     237         171   408\n",
              "under 18                        107         120   227\n",
              "All                             447         553  1000"
            ]
          },
          "metadata": {},
          "execution_count": 15
        }
      ]
    },
    {
      "cell_type": "markdown",
      "source": [
        "* There are a total of 1000 people in the sample\n",
        "* In the 18-34 age group, 262 out of 365 (or 71.78%) users are subscribed users.\n",
        "* In the 35 and over age group, 171 out of 408 (41.91%) users are subscribed users.\n",
        "* In the under 18 age group, 120 out of 227 (52.86%) users are subscribed users."
      ],
      "metadata": {
        "id": "DWI1r4mcGHGG"
      }
    },
    {
      "cell_type": "markdown",
      "source": [
        "To visualize the relationship between the two categorical variables, we can plot a stacked bar chart.\n",
        "\n",
        "- A stacked bar chart, also known as a stacked bar graph, is a graph that is used to break down and compare parts of a whole\n",
        "- Each bar in the chart represents a whole, and segments in the bar represent different parts or categories of that whole\n",
        "- Different colors are used to illustrate the different categories in the bar"
      ],
      "metadata": {
        "id": "c07M05H8zP1s"
      }
    },
    {
      "cell_type": "code",
      "source": [
        "# visual analysis\n",
        "pd.crosstab(df.age_group,df.subscription_status,normalize=True).plot(kind='bar',stacked=True)"
      ],
      "metadata": {
        "colab": {
          "base_uri": "https://localhost:8080/",
          "height": 346
        },
        "id": "XNuBhcq-WYJi",
        "outputId": "41bb6320-5ac0-4d4f-ae6c-853987e0780f"
      },
      "execution_count": null,
      "outputs": [
        {
          "output_type": "execute_result",
          "data": {
            "text/plain": [
              "<matplotlib.axes._subplots.AxesSubplot at 0x7f55d1216b50>"
            ]
          },
          "metadata": {},
          "execution_count": 16
        },
        {
          "output_type": "display_data",
          "data": {
            "image/png": "[encoded data removed]",
            "text/plain": [
              "<Figure size 432x288 with 1 Axes>"
            ]
          },
          "metadata": {
            "needs_background": "light"
          }
        }
      ]
    },
    {
      "cell_type": "markdown",
      "source": [
        "* The proportion of subscribed users is higher in the age group 18-34 than the other two age groups. \n",
        "* Based on the sample data, we can infer that the proportion of subscribers is higher for one age group, but is this difference significant enough to conclude that subscription status is dependent on the age group?"
      ],
      "metadata": {
        "id": "8u6yIC0PaASG"
      }
    },
    {
      "cell_type": "markdown",
      "source": [
        "### Step 1: Define null and alternative hypotheses"
      ],
      "metadata": {
        "id": "aNR07BeDoa4o"
      }
    },
    {
      "cell_type": "markdown",
      "source": [
        "**Let's formulate the null and alternative hypothesis for the above problem**"
      ],
      "metadata": {
        "id": "rNKK-S8THHmF"
      }
    },
    {
      "cell_type": "markdown",
      "source": [
        "$H_0:$ Customer age group and subscription status are independent of each other\n",
        "\n",
        "$H_a:$ Customer age group and subscription status are dependent on each other"
      ],
      "metadata": {
        "id": "9QFqzq-DHHjd"
      }
    },
    {
      "cell_type": "markdown",
      "source": [
        "### Step 2: Select Appropriate test"
      ],
      "metadata": {
        "id": "uHn2YaXdofNb"
      }
    },
    {
      "cell_type": "markdown",
      "source": [
        "To test the dependence between two categorical variables, a Chi-square test for independence is used.\n",
        "\n",
        "A **chi-square test for independence** is a test based on the chi-square probability distribution. It involves the calculation of a chi-square test statistic. A chi-square (χ2) statistic is a measure of the difference between the observed and expected frequencies of the outcomes of a set of events or variables, given the size of the sample and the number of variables in the relationship. The idea behind the chi-square test is to compare what we observe in the random sample to what we expect to observe when we assume that there is no relationship between the two variables."
      ],
      "metadata": {
        "id": "zvgyTkHNHHg3"
      }
    },
    {
      "cell_type": "markdown",
      "source": [
        "### Step 3: Decide the significance level"
      ],
      "metadata": {
        "id": "jzs-dymiorV_"
      }
    },
    {
      "cell_type": "markdown",
      "source": [
        "Let's set the level of significane (alpha) as 0.05"
      ],
      "metadata": {
        "id": "RJ5voYgni-Df"
      }
    },
    {
      "cell_type": "markdown",
      "source": [
        "### Step 4: Collect and prepare data"
      ],
      "metadata": {
        "id": "-90e5zdqozrk"
      }
    },
    {
      "cell_type": "markdown",
      "source": [
        "Let's prepare the data for the test. To perform the chi-squared test of independance, we need to create the contingency table, for which we will use `pd.crosstab()`"
      ],
      "metadata": {
        "id": "skKd3m3FHHci"
      }
    },
    {
      "cell_type": "code",
      "source": [
        "# prepare a contingency table to perform the test\n",
        "contingency_table = pd.crosstab(df.age_group, df.subscription_status)\n",
        "contingency_table"
      ],
      "metadata": {
        "colab": {
          "base_uri": "https://localhost:8080/",
          "height": 175
        },
        "id": "EPdDY7zIHHSt",
        "outputId": "84a4bec1-cdce-443b-9bf4-8a132b151061"
      },
      "execution_count": null,
      "outputs": [
        {
          "output_type": "execute_result",
          "data": {
            "text/plain": [
              "subscription_status  not_subscribed  subscribed\n",
              "age_group                                      \n",
              "18-34                           103         262\n",
              "35 and over                     237         171\n",
              "under 18                        107         120"
            ],
            "text/html": [
              "\n",
              "  <div id=\"df-83044a9e-6169-43c8-abba-cc97b27265ab\">\n",
              "    <div class=\"colab-df-container\">\n",
              "      <div>\n",
              "<style scoped>\n",
              "    .dataframe tbody tr th:only-of-type {\n",
              "        vertical-align: middle;\n",
              "    }\n",
              "\n",
              "    .dataframe tbody tr th {\n",
              "        vertical-align: top;\n",
              "    }\n",
              "\n",
              "    .dataframe thead th {\n",
              "        text-align: right;\n",
              "    }\n",
              "</style>\n",
              "<table border=\"1\" class=\"dataframe\">\n",
              "  <thead>\n",
              "    <tr style=\"text-align: right;\">\n",
              "      <th>subscription_status</th>\n",
              "      <th>not_subscribed</th>\n",
              "      <th>subscribed</th>\n",
              "    </tr>\n",
              "    <tr>\n",
              "      <th>age_group</th>\n",
              "      <th></th>\n",
              "      <th></th>\n",
              "    </tr>\n",
              "  </thead>\n",
              "  <tbody>\n",
              "    <tr>\n",
              "      <th>18-34</th>\n",
              "      <td>103</td>\n",
              "      <td>262</td>\n",
              "    </tr>\n",
              "    <tr>\n",
              "      <th>35 and over</th>\n",
              "      <td>237</td>\n",
              "      <td>171</td>\n",
              "    </tr>\n",
              "    <tr>\n",
              "      <th>under 18</th>\n",
              "      <td>107</td>\n",
              "      <td>120</td>\n",
              "    </tr>\n",
              "  </tbody>\n",
              "</table>\n",
              "</div>\n",
              "      <button class=\"colab-df-convert\" onclick=\"convertToInteractive('df-83044a9e-6169-43c8-abba-cc97b27265ab')\"\n",
              "              title=\"Convert this dataframe to an interactive table.\"\n",
              "              style=\"display:none;\">\n",
              "        \n",
              "  <svg xmlns=\"http://www.w3.org/2000/svg\" height=\"24px\"viewBox=\"0 0 24 24\"\n",
              "       width=\"24px\">\n",
              "    <path d=\"M0 0h24v24H0V0z\" fill=\"none\"/>\n",
              "    <path d=\"M18.56 5.44l.94 2.06.94-2.06 2.06-.94-2.06-.94-.94-2.06-.94 2.06-2.06.94zm-11 1L8.5 8.5l.94-2.06 2.06-.94-2.06-.94L8.5 2.5l-.94 2.06-2.06.94zm10 10l.94 2.06.94-2.06 2.06-.94-2.06-.94-.94-2.06-.94 2.06-2.06.94z\"/><path d=\"M17.41 7.96l-1.37-1.37c-.4-.4-.92-.59-1.43-.59-.52 0-1.04.2-1.43.59L10.3 9.45l-7.72 7.72c-.78.78-.78 2.05 0 2.83L4 21.41c.39.39.9.59 1.41.59.51 0 1.02-.2 1.41-.59l7.78-7.78 2.81-2.81c.8-.78.8-2.07 0-2.86zM5.41 20L4 18.59l7.72-7.72 1.47 1.35L5.41 20z\"/>\n",
              "  </svg>\n",
              "      </button>\n",
              "      \n",
              "  <style>\n",
              "    .colab-df-container {\n",
              "      display:flex;\n",
              "      flex-wrap:wrap;\n",
              "      gap: 12px;\n",
              "    }\n",
              "\n",
              "    .colab-df-convert {\n",
              "      background-color: #E8F0FE;\n",
              "      border: none;\n",
              "      border-radius: 50%;\n",
              "      cursor: pointer;\n",
              "      display: none;\n",
              "      fill: #1967D2;\n",
              "      height: 32px;\n",
              "      padding: 0 0 0 0;\n",
              "      width: 32px;\n",
              "    }\n",
              "\n",
              "    .colab-df-convert:hover {\n",
              "      background-color: #E2EBFA;\n",
              "      box-shadow: 0px 1px 2px rgba(60, 64, 67, 0.3), 0px 1px 3px 1px rgba(60, 64, 67, 0.15);\n",
              "      fill: #174EA6;\n",
              "    }\n",
              "\n",
              "    [theme=dark] .colab-df-convert {\n",
              "      background-color: #3B4455;\n",
              "      fill: #D2E3FC;\n",
              "    }\n",
              "\n",
              "    [theme=dark] .colab-df-convert:hover {\n",
              "      background-color: #434B5C;\n",
              "      box-shadow: 0px 1px 3px 1px rgba(0, 0, 0, 0.15);\n",
              "      filter: drop-shadow(0px 1px 2px rgba(0, 0, 0, 0.3));\n",
              "      fill: #FFFFFF;\n",
              "    }\n",
              "  </style>\n",
              "\n",
              "      <script>\n",
              "        const buttonEl =\n",
              "          document.querySelector('#df-83044a9e-6169-43c8-abba-cc97b27265ab button.colab-df-convert');\n",
              "        buttonEl.style.display =\n",
              "          google.colab.kernel.accessAllowed ? 'block' : 'none';\n",
              "\n",
              "        async function convertToInteractive(key) {\n",
              "          const element = document.querySelector('#df-83044a9e-6169-43c8-abba-cc97b27265ab');\n",
              "          const dataTable =\n",
              "            await google.colab.kernel.invokeFunction('convertToInteractive',\n",
              "                                                     [key], {});\n",
              "          if (!dataTable) return;\n",
              "\n",
              "          const docLinkHtml = 'Like what you see? Visit the ' +\n",
              "            '<a target=\"_blank\" href=https://colab.research.google.com/notebooks/data_table.ipynb>data table notebook</a>'\n",
              "            + ' to learn more about interactive tables.';\n",
              "          element.innerHTML = '';\n",
              "          dataTable['output_type'] = 'display_data';\n",
              "          await google.colab.output.renderOutput(dataTable, element);\n",
              "          const docLink = document.createElement('div');\n",
              "          docLink.innerHTML = docLinkHtml;\n",
              "          element.appendChild(docLink);\n",
              "        }\n",
              "      </script>\n",
              "    </div>\n",
              "  </div>\n",
              "  "
            ]
          },
          "metadata": {},
          "execution_count": 11
        }
      ]
    },
    {
      "cell_type": "markdown",
      "source": [
        "### Step 5: Calculate the p-value"
      ],
      "metadata": {
        "id": "K1Kznf9sHHF-"
      }
    },
    {
      "cell_type": "markdown",
      "source": [
        "We will use the `chi2_contingency` function from the scipy stats library to perform the hypothesis test. It takes the contingency table as an input and returns the test statistic, p-value, degrees of freedom, and the expected frequencies as the output."
      ],
      "metadata": {
        "id": "zZLKHOQNHFuH"
      }
    },
    {
      "cell_type": "code",
      "source": [
        "# import the required test function\n",
        "from scipy.stats import chi2_contingency\n",
        "\n",
        "# calculate the test results\n",
        "chi, p_value, dof, expected = chi2_contingency(contingency_table)\n",
        "\n",
        "print(\"Test Statistic =\",chi)\n",
        "print(\"p-value =\",p_value)\n",
        "print(\"Degrees of freedom =\",dof)\n",
        "print(\"Expected frequencies \\n\", expected)"
      ],
      "metadata": {
        "colab": {
          "base_uri": "https://localhost:8080/"
        },
        "id": "NqPTSNGaHG7j",
        "outputId": "e5403bd3-95aa-4084-cf66-dd6b4883cff0"
      },
      "execution_count": null,
      "outputs": [
        {
          "output_type": "stream",
          "name": "stdout",
          "text": [
            "Test Statistic = 70.23716243606756\n",
            "p-value = 5.600076564450542e-16\n",
            "Degrees of freedom = 2\n",
            "Expected frequencies \n",
            " [[163.155 201.845]\n",
            " [182.376 225.624]\n",
            " [101.469 125.531]]\n"
          ]
        }
      ]
    },
    {
      "cell_type": "markdown",
      "source": [
        "### Step 6: Compare the p-value with $\\alpha$"
      ],
      "metadata": {
        "id": "mI-Hbv0opbbU"
      }
    },
    {
      "cell_type": "code",
      "source": [
        "# print the conclusion based on p-value\n",
        "if p_value < 0.05:\n",
        "    print(f'As the p-value {p_value} is less than the level of significance, we reject the null hypothesis.')\n",
        "else:\n",
        "    print(f'As the p-value {p_value} is greater than the level of significance, we fail to reject the null hypothesis.')"
      ],
      "metadata": {
        "colab": {
          "base_uri": "https://localhost:8080/"
        },
        "id": "Q39H-I1Wuzoq",
        "outputId": "d6ce7f0c-66a6-4f6f-af78-cd25548a804a"
      },
      "execution_count": null,
      "outputs": [
        {
          "output_type": "stream",
          "name": "stdout",
          "text": [
            "As the p-value 5.600076564450542e-16 is less than the level of significance, we reject the null hypothesis.\n"
          ]
        }
      ]
    },
    {
      "cell_type": "markdown",
      "source": [
        "### Step 7:  Draw inference"
      ],
      "metadata": {
        "id": "hOC8yU8VpgBP"
      }
    },
    {
      "cell_type": "markdown",
      "source": [
        "Since the p-value is less than the 5% significance level, we reject the null hypothesis. Hence, we have enough statistical evidence to say that age group and subscription_status are dependent on each other."
      ],
      "metadata": {
        "id": "StFLV0sGu2Bh"
      }
    },
    {
      "cell_type": "markdown",
      "source": [
        "## Actionable Insights and Conclusions"
      ],
      "metadata": {
        "id": "QSW8o3NLtGkk"
      }
    },
    {
      "cell_type": "markdown",
      "source": [
        "- From the sample data, we observed that\n",
        "  - 50% of the people spend at least 6 hours on an average per week on the AZ Tunes App\n",
        "  - The average weekly app engagement time of AZ Tunes was 6.18 hours\n",
        "\n",
        "- There is enough statistical evidence (p-value of 0.0196 at 5% level of significance) to conclude that the average app engagement time of AZ Tunes is greater than the market average\n",
        "\n",
        "- The difference in proportions of subscribers across the 3 age groups is significant enough (p-value of 5.60 x 10^(-16) at 5% level of significance) to conclude that the age group 18-34 is most likely to subscribe\n",
        "  - AZ Tunes can focus more on designing the special offers for this age group to be used in the marketing campaign"
      ],
      "metadata": {
        "id": "h6WHqCPGtIKs"
      }
    },
    {
      "cell_type": "markdown",
      "source": [
        "****"
      ],
      "metadata": {
        "id": "tMrZDKWj_oAt"
      }
    }
  ]
}