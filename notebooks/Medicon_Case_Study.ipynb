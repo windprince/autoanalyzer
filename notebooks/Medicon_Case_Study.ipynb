{
  "cells": [
    {
      "cell_type": "markdown",
      "metadata": {
        "id": "i3NB-wxN-qll"
      },
      "source": [
        "<center><p float=\"center\">\n",
        "  <img src=\"https://upload.wikimedia.org/wikipedia/commons/e/e9/4_RGB_McCombs_School_Brand_Branded.png\" width=\"300\" height=\"100\"/>\n",
        "  <img src=\"https://mma.prnewswire.com/media/1458111/Great_Learning_Logo.jpg?p=facebook\" width=\"200\" height=\"100\"/>\n",
        "</p></center>\n",
        "\n",
        "<h1><center><font size=10>Business Statistics</center></font></h1>\n",
        "<h1><center>Inferential Statistics Foundations - Week 1</center></h1>\n",
        "\n",
        "\n"
      ]
    },
    {
      "cell_type": "markdown",
      "metadata": {
        "id": "hB9o4E20-qls"
      },
      "source": [
        "<center><img src=\"https://cdn.pixabay.com/photo/2021/04/14/15/45/test-6178726_960_720.jpg\" width=\"1000\" height=\"600\"></center>\n",
        "\n",
        "<b><h2><center>Medicon Case Study</center></h2></b>"
      ]
    },
    {
      "cell_type": "markdown",
      "metadata": {
        "id": "ABPdgfNR-qlu"
      },
      "source": [
        "## Problem Statement"
      ]
    },
    {
      "cell_type": "markdown",
      "metadata": {
        "id": "7uTqu6UnZIuP"
      },
      "source": [
        "### Business Context\n",
        "\n",
        "Medicon is a leading pharmaceutical company and one of the world's largest vaccine manufacturers. During the last quarter, the company clinically tested five batches of the Covid-19 vaccine, and approximately 2,00,000 doses of this vaccine have already been administered to people. The sixth batch (40,000 doses) has now been manufactured and must be tested for quality assurance (whether the dose will be able to do a satisfactory job or not) as well as their time of effect (time taken for the dose to completely cure COVID). From the analysis of the previous batches, it is found that a dose is two times more likely to produce a satisfactory result as compared to an unsatisfactory result.\n",
        "\n",
        "[Note: This is not a clinical trial, the vaccine has already cleared clinical trials. This batch test is to ensure the quality and effectiveness of the sixth batch]\n",
        "\n",
        "### Objective\n",
        "\n",
        "By analyzing random samples collected from the batch, the company plans to infer the quality (whether a dose will do a satisfactory job or not) and time of effect of this (sixth) batch. As a Data Scientist in Medicon's Quality Assurance team, you've been tasked with inspecting the batch's quality. The objective has been sub-divided further into the following tasks:\n",
        "\n",
        "**Task 1**: The Quality Assurance team has randomly selected 10 volunteers who were ready for the trial of the new batch and has given one dose to each volunteer. They want to understand the chances of doses being unsatisfactory by plotting the probability distribution of the number of unsatisfactory doses. They also want to find the probability that\n",
        "\n",
        "a) exactly 3 doses out of 10 will not do a satisfactory job\n",
        "\n",
        "b) at most 3 doses out of 10 will not do a satisfactory job\n",
        "\n",
        "**Task 2**: The New York City administration wants to buy 20 doses for healthcare workers who tested positive for COVID. They have contacted the company and requested 20 doses. The Quality Assurance team wants to find the probability that at least 11 doses will not do a satisfactory job out of the 20 doses\n",
        "\n",
        "**Task 3**: The Quality Assurance team wants to analyze the time of effect for doses. So, they have randomly selected 50 volunteers with the help of the city administration and given one dose to each volunteer. The times of effect of these 50 doses are stored in the 'doses.csv' file. Based on the sample data, they want to\n",
        "\n",
        "a) find the probability that the time of effect of a dose is less than 11.5 hours\n",
        "\n",
        "b) calculate the 90th percentile of time of effect for the doses, which will give the value below which lies the time of effect of 90% of the doses\n",
        "\n",
        "**Note**: Here, satisfactory job means that the dose is able to completely cure covid and it does not have any side effects.\n",
        "\n",
        "### Solution Approach\n",
        "\n",
        "Let $p$ be the probability that a dose will not do a satisfactory job. It is provided that a dose is two times more likely to produce a satisfactory result as compared to an unsatisfactory result. So, the probability that a dose will do a satisfactory job is $2p$.\n",
        "\n",
        "According to the rules of probability, the total probability is always 1\n",
        "\n",
        "$p + 2p = 1$\n",
        "\n",
        "$=> 3p = 1$\n",
        "\n",
        "$=> p = 1/3$\n",
        "\n",
        "$=> p = 0.33$\n",
        "\n",
        "Hence, the probability of success for each trial is 0.33.\n",
        "\n",
        "**Note**: In this case, success denotes the event that a dose will not do a satisfactory job.\n",
        "\n",
        "### Data\n",
        "For the third task, you have been provided the dataset **doses.csv**. The features in the dataset are:\n",
        "\n",
        "* drug_serial_number: Unique serial number of a dose\n",
        "* time_of_effect: Time taken for the dose to completely cure COVID (in hours)"
      ]
    },
    {
      "cell_type": "markdown",
      "metadata": {
        "id": "8FbHCKa_NBGQ"
      },
      "source": [
        "## Import the necessary libraries "
      ]
    },
    {
      "cell_type": "code",
      "execution_count": null,
      "metadata": {
        "id": "cNXGq81liYXe"
      },
      "outputs": [],
      "source": [
        "# Libraries to help with reading and manipulating data\n",
        "import pandas as pd\n",
        "import numpy as np\n",
        "\n",
        "# Libraries to help with data visualization\n",
        "import matplotlib.pyplot as plt\n",
        "import seaborn as sns\n",
        "%matplotlib inline \n",
        "\n",
        "# Library to help with statistical analysis\n",
        "import scipy.stats as stats "
      ]
    },
    {
      "cell_type": "markdown",
      "metadata": {
        "id": "eP61eT-Q-ql0"
      },
      "source": [
        "## Task 1"
      ]
    },
    {
      "cell_type": "markdown",
      "metadata": {
        "id": "Hrjb75zpALlN"
      },
      "source": [
        "**The quality assurance team has randomly selected 10 volunteers who were ready for the trial of the new batch and given one dose to each volunteer.**\n",
        "\n",
        "In the above situation,\n",
        "\n",
        "*  There are only two possible outcomes (success or failure) for each trial – A dose will do a satisfactory job or not (yes or no).\n",
        "\n",
        "* Number of trials ($n$) is fixed and finite - A  sample of size 10 is taken. Each dose in the sample represents a trial.\n",
        "\n",
        "* Each trial is independent of the other trials - It is reasonable to assume that the doses given to each person are independent of each other.\n",
        "\n",
        "* The probability of success ($p$) is the same for each trial - The probability of success (a dose will not do a satisfactory job) for each trial is calculated to be 0.33\n",
        "\n",
        "Hence, the number of unsatisfactory doses follows a Binomial distribution with the parameters $n = 10$ and $p = 0.33$"
      ]
    },
    {
      "cell_type": "code",
      "execution_count": null,
      "metadata": {
        "id": "pr7eBI8P-ql3"
      },
      "outputs": [],
      "source": [
        "# declare the parameters n and p of the binomial distribution\n",
        "n = 10\n",
        "p = 0.33"
      ]
    },
    {
      "cell_type": "code",
      "execution_count": null,
      "metadata": {
        "colab": {
          "base_uri": "https://localhost:8080/"
        },
        "id": "C-tnZuKyIZY-",
        "outputId": "1f4e25cb-0766-49d1-acf3-83b6cef953c6"
      },
      "outputs": [
        {
          "output_type": "execute_result",
          "data": {
            "text/plain": [
              "array([ 0,  1,  2,  3,  4,  5,  6,  7,  8,  9, 10])"
            ]
          },
          "metadata": {},
          "execution_count": 4
        }
      ],
      "source": [
        "# store all possible number of unsatisfactory doses in a numpy array\n",
        "k=np.arange(0,11)\n",
        "k"
      ]
    },
    {
      "cell_type": "code",
      "execution_count": null,
      "metadata": {
        "id": "zOMdaSVSIhUd"
      },
      "outputs": [],
      "source": [
        "# import the required function\n",
        "from scipy.stats import binom\n",
        "# use the binom.pmf() function to generate the mass probabilities for all possible number of unsatisfactory doses\n",
        "binomial_prob = binom.pmf(k = k,n = n, p = p)"
      ]
    },
    {
      "cell_type": "code",
      "execution_count": null,
      "metadata": {
        "colab": {
          "base_uri": "https://localhost:8080/"
        },
        "id": "mNiIIt6JI0Kk",
        "outputId": "3733b5c3-8cb3-42db-9463-aa93fc5679b5"
      },
      "outputs": [
        {
          "output_type": "execute_result",
          "data": {
            "text/plain": [
              "array([1.82283780e-02, 8.97815635e-02, 1.98993465e-01, 2.61364552e-01,\n",
              "       2.25280640e-01, 1.33150945e-01, 5.46515074e-02, 1.53816609e-02,\n",
              "       2.84101573e-03, 3.10956945e-04, 1.53157899e-05])"
            ]
          },
          "metadata": {},
          "execution_count": 6
        }
      ],
      "source": [
        "binomial_prob"
      ]
    },
    {
      "cell_type": "markdown",
      "metadata": {
        "id": "oAUSy7vD-ql7"
      },
      "source": [
        "Let us plot the probability distribution of the number of unsatisfactory doses."
      ]
    },
    {
      "cell_type": "code",
      "execution_count": null,
      "metadata": {
        "colab": {
          "base_uri": "https://localhost:8080/",
          "height": 297
        },
        "id": "AsMrxVECI2zT",
        "outputId": "fa2c70f9-90cf-4742-be97-7896fb82eea4"
      },
      "outputs": [
        {
          "output_type": "display_data",
          "data": {
            "text/plain": [
              "<Figure size 432x288 with 1 Axes>"
            ],
            "image/png": "[encoded data removed]"
          },
          "metadata": {
            "needs_background": "light"
          }
        }
      ],
      "source": [
        "# plot the probability distribution\n",
        "plt.bar(k,binomial_prob)\n",
        "plt.title('Binomial: n=%i , p=%.2f' % (n,p), fontsize=15)\n",
        "plt.xlabel('Number of unsatisfactory doses')\n",
        "plt.ylabel('Probability')\n",
        "plt.show()"
      ]
    },
    {
      "cell_type": "markdown",
      "source": [
        "The above plot visualizes the mass probabilities for the different number of unsatisfactory doses. We can observe that:\n",
        "- The mass probability that exactly 3 doses will not do a satisfactory job is comparatively higher than all the other mass probabilities.\n",
        "- The chances are very low that 9 or 10 doses are unsatisfactory."
      ],
      "metadata": {
        "id": "jp9eXWFYD3Wc"
      }
    },
    {
      "cell_type": "markdown",
      "metadata": {
        "id": "jFFr2sXaK-IQ"
      },
      "source": [
        "### a) Let us find the probability that exactly 3 doses out of 10 will not do a satisfactory job."
      ]
    },
    {
      "cell_type": "markdown",
      "metadata": {
        "id": "NswsXUhE-ql8"
      },
      "source": [
        "Suppose $X$ is the random variable that denotes the number of unsuccessful doses. We are to calculate the probability $P(X=3)$."
      ]
    },
    {
      "cell_type": "code",
      "source": [
        "# plot the probability distribution to better visualize the calculations\n",
        "barl=plt.bar(k,binomial_prob)\n",
        "plt.title('Binomial: n=%i , p=%.2f' % (n,p), fontsize=15)\n",
        "plt.xlabel('Number of unsatisfactory doses')\n",
        "plt.ylabel('Probability')\n",
        "barl[3].set_color('r')\n",
        "plt.show()"
      ],
      "metadata": {
        "id": "cNZFKSIxZ_K2",
        "colab": {
          "base_uri": "https://localhost:8080/",
          "height": 297
        },
        "outputId": "d147a395-23bf-4ee8-a5e8-682c47374f49"
      },
      "execution_count": null,
      "outputs": [
        {
          "output_type": "display_data",
          "data": {
            "text/plain": [
              "<Figure size 432x288 with 1 Axes>"
            ],
            "image/png": "[encoded data removed]"
          },
          "metadata": {
            "needs_background": "light"
          }
        }
      ]
    },
    {
      "cell_type": "markdown",
      "source": [
        "* In the above graph, the red bar represents $P(X=3)$\n",
        "\n",
        "* Let's calculate the probability that out of 10 randomly selected doses, exactly 3 will not do a satisfactory job.\n",
        "\n",
        "* We will use `binom.pmf()` for this.\n",
        " * The function `binom.pmf(k,n,p)` calculates the probability $P(X=k)$"
      ],
      "metadata": {
        "id": "Vtl1ySAoif4j"
      }
    },
    {
      "cell_type": "code",
      "execution_count": null,
      "metadata": {
        "scrolled": true,
        "id": "SwA5ktyW-ql9",
        "outputId": "737c9104-db81-4bdd-f31b-aabd40ea1dd0",
        "colab": {
          "base_uri": "https://localhost:8080/"
        }
      },
      "outputs": [
        {
          "output_type": "execute_result",
          "data": {
            "text/plain": [
              "0.26136455155259136"
            ]
          },
          "metadata": {},
          "execution_count": 9
        }
      ],
      "source": [
        "# calculate P(X=3) using the pmf function\n",
        "binom.pmf(k=3,n=10,p=0.33)"
      ]
    },
    {
      "cell_type": "markdown",
      "metadata": {
        "id": "dhlq2HYh-ql9"
      },
      "source": [
        "The same result can be obtained by selecting the value at index 3 in the binomial probabilities array"
      ]
    },
    {
      "cell_type": "code",
      "execution_count": null,
      "metadata": {
        "colab": {
          "base_uri": "https://localhost:8080/"
        },
        "id": "-azdDTV4JCgy",
        "outputId": "78933bae-4994-49b3-c2ea-bf54daa7bb6d"
      },
      "outputs": [
        {
          "output_type": "execute_result",
          "data": {
            "text/plain": [
              "0.26136455155259136"
            ]
          },
          "metadata": {},
          "execution_count": 10
        }
      ],
      "source": [
        "binomial_prob[3]"
      ]
    },
    {
      "cell_type": "markdown",
      "metadata": {
        "id": "crI831a9Jmcn"
      },
      "source": [
        "* The probability that exactly 3 doses out of 10 will not do a satisfactory job is 26.14%."
      ]
    },
    {
      "cell_type": "markdown",
      "metadata": {
        "id": "kcDwQXrR-ql_"
      },
      "source": [
        "### b) Let us find the probability that at most 3 doses out of 10 will not do a satisfactory job."
      ]
    },
    {
      "cell_type": "markdown",
      "metadata": {
        "id": "KvTxEpGZKN6c"
      },
      "source": [
        "We are to calculate the probability $P(X<=3)$."
      ]
    },
    {
      "cell_type": "code",
      "execution_count": null,
      "metadata": {
        "colab": {
          "base_uri": "https://localhost:8080/",
          "height": 297
        },
        "id": "hzrA4Oz3J__y",
        "outputId": "e16ecbc6-b6cd-41d0-d59f-ae6518c35a15"
      },
      "outputs": [
        {
          "output_type": "display_data",
          "data": {
            "text/plain": [
              "<Figure size 432x288 with 1 Axes>"
            ],
            "image/png": "[encoded data removed]"
          },
          "metadata": {
            "needs_background": "light"
          }
        }
      ],
      "source": [
        "# plot the probability distribution to better visualize the calculations. \n",
        "# cdf function can be directly used to calculate the probability\n",
        "barl=plt.bar(k,binomial_prob)\n",
        "plt.title('Binomial: n=%i , p=%.2f' % (n,p), fontsize=15)\n",
        "plt.xlabel('Number of unsatisfactory doses')\n",
        "plt.ylabel('Probability')\n",
        "for i in range(0,4):\n",
        "    barl[i].set_color('r')\n",
        "plt.show()"
      ]
    },
    {
      "cell_type": "markdown",
      "metadata": {
        "id": "CgPbGLOSPPYq"
      },
      "source": [
        "* In the above graph, the red region represents $P(X<=3)$.\n",
        "\n",
        "* Let's calculate the probability that out of 10 randomly selected doses, at most 3 will not do a satisfactory job.\n",
        "\n",
        "* We will use `binom.cdf()` for this.\n",
        "  * The function `binom.cdf(k,n,p)` calculates the probability $P(X<=k)$"
      ]
    },
    {
      "cell_type": "code",
      "execution_count": null,
      "metadata": {
        "colab": {
          "base_uri": "https://localhost:8080/"
        },
        "id": "C93TNkZiPH98",
        "outputId": "706559ad-5b47-4dc9-b8dc-540286628102"
      },
      "outputs": [
        {
          "output_type": "stream",
          "name": "stdout",
          "text": [
            "0.5683679584925136\n"
          ]
        }
      ],
      "source": [
        "# calculate P(x<=3) using the cdf function\n",
        "prob_atmost3 = binom.cdf(k = 3 ,n = n, p = p)\n",
        "print(prob_atmost3)"
      ]
    },
    {
      "cell_type": "markdown",
      "metadata": {
        "id": "bttPuQE-PvsY"
      },
      "source": [
        "*  56.84% is the probability that at most 3 doses out of 10 will not do a satisfactory job."
      ]
    },
    {
      "cell_type": "markdown",
      "metadata": {
        "id": "L9qqPJGG-qmB"
      },
      "source": [
        "## Task 2"
      ]
    },
    {
      "cell_type": "markdown",
      "metadata": {
        "id": "urid6LnBQWbk"
      },
      "source": [
        "**The New York City administration wants to buy 20 doses for healthcare workers who tested positive for COVID. They have contacted the company and requested 20 doses. The Quality Assurance team wants to find the probability that at least 11 doses will not do a satisfactory job out of the 20 doses**\n",
        "\n",
        "In the above situation, the number of unsatisfactory doses follows a Binomial distribution with the parameters $n = 20$ and $p = 0.33$\n",
        "\n",
        "Suppose X is the random variable that denotes the number of unsuccessful doses. We are to calculate the probability $P(X>=11)$. It can be obtained using the `cdf` function "
      ]
    },
    {
      "cell_type": "code",
      "execution_count": null,
      "metadata": {
        "colab": {
          "base_uri": "https://localhost:8080/"
        },
        "id": "o8qJEipgQ3iI",
        "outputId": "24c2cc71-7514-429b-8401-a7f1b57cc4e6"
      },
      "outputs": [
        {
          "output_type": "execute_result",
          "data": {
            "text/plain": [
              "array([ 0,  1,  2,  3,  4,  5,  6,  7,  8,  9, 10, 11, 12, 13, 14, 15, 16,\n",
              "       17, 18, 19, 20])"
            ]
          },
          "metadata": {},
          "execution_count": 11
        }
      ],
      "source": [
        "# declare the parameters n and p of the binomial distribution\n",
        "n = 20\n",
        "p = 0.33\n",
        "# store all possible number of unsatisfactory doses in a numpy array\n",
        "k=np.arange(0,21)\n",
        "k"
      ]
    },
    {
      "cell_type": "code",
      "execution_count": null,
      "metadata": {
        "id": "zhkOqBYi-qmC"
      },
      "outputs": [],
      "source": [
        "# import the required function\n",
        "from scipy.stats import binom\n",
        "# use the binom.pmf() function to generate the mass probabilities for all possible number of unsatisfactory doses\n",
        "binomial_prob = binom.pmf(k = k,n = n, p = p)"
      ]
    },
    {
      "cell_type": "markdown",
      "metadata": {
        "id": "0Y3LIC9O-qmD"
      },
      "source": [
        "We are to calculate the probability $P(X>=11)$"
      ]
    },
    {
      "cell_type": "code",
      "execution_count": null,
      "metadata": {
        "colab": {
          "base_uri": "https://localhost:8080/",
          "height": 297
        },
        "id": "Aj4naC37PjBx",
        "outputId": "f1992691-4d10-453b-8594-dcf3a2fb4a47"
      },
      "outputs": [
        {
          "output_type": "display_data",
          "data": {
            "text/plain": [
              "<Figure size 432x288 with 1 Axes>"
            ],
            "image/png": "[encoded data removed]"
          },
          "metadata": {
            "needs_background": "light"
          }
        }
      ],
      "source": [
        "# plot the probability distribution to better visualize the calculations. \n",
        "# cdf function can be directly used to calculate the probability\n",
        "barl=plt.bar(k,binomial_prob)\n",
        "plt.title('Binomial: n=%i , p=%.2f' % (n,p), fontsize=15)\n",
        "plt.xlabel('Number of unsatisfactory doses')\n",
        "plt.ylabel('Probability')\n",
        "for i in range(11,21):\n",
        "    barl[i].set_color('r')\n",
        "plt.show()"
      ]
    },
    {
      "cell_type": "markdown",
      "metadata": {
        "id": "TEas5m-tQqcb"
      },
      "source": [
        "In the above graph, the red region represents $P(X>=11)$. We can simplify the computation as follows:\n",
        "\n",
        "$P(X>=11)$\n",
        "\n",
        "$= 1 - P(X<11)$\n",
        "\n",
        "$= 1 - P(X<=10)$"
      ]
    },
    {
      "cell_type": "markdown",
      "metadata": {
        "id": "oqdo20Ok-qmE"
      },
      "source": [
        "Now, we can use `binom.cdf()` for calculating the probability that out of 20 randomly selected doses, at least 11 will not do a satisfactory job."
      ]
    },
    {
      "cell_type": "code",
      "execution_count": null,
      "metadata": {
        "id": "c59BLJ5G-qmE",
        "outputId": "6e156dd8-80ce-437c-8dc5-973f75fea688",
        "colab": {
          "base_uri": "https://localhost:8080/"
        }
      },
      "outputs": [
        {
          "output_type": "stream",
          "name": "stdout",
          "text": [
            "0.03499740152648401\n"
          ]
        }
      ],
      "source": [
        "# calculate P(x>=11) using cdf function\n",
        "prob_atleast11 = 1 - binom.cdf(k = 10, n = n, p = p)\n",
        "print(prob_atleast11)"
      ]
    },
    {
      "cell_type": "markdown",
      "metadata": {
        "id": "E_2gaKjaLMGT"
      },
      "source": [
        "* There is 3.5 % chance that at least 11 out of 20 doses will not do a satisfactory job"
      ]
    },
    {
      "cell_type": "markdown",
      "metadata": {
        "id": "k_9OvVaO-qmF"
      },
      "source": [
        "## Task 3"
      ]
    },
    {
      "cell_type": "markdown",
      "metadata": {
        "id": "-_FMYnJs-qmF"
      },
      "source": [
        "**The quality assurance team wants to analyze the time of effect for doses. So, they have randomly selected 50 volunteers with the help of the city administration and given one dose to each volunteer. The time of effect of these 50 doses are stored in 'doses.csv' file.**"
      ]
    },
    {
      "cell_type": "markdown",
      "metadata": {
        "id": "PH9A8NlF8Bl_"
      },
      "source": [
        "**Reading the Sample Data into the DataFrame**"
      ]
    },
    {
      "cell_type": "code",
      "execution_count": null,
      "metadata": {
        "colab": {
          "base_uri": "https://localhost:8080/",
          "height": 206
        },
        "id": "E6b88UwqAfLM",
        "outputId": "ae5d2f77-064f-494b-8ecb-e0b3612b37fd"
      },
      "outputs": [
        {
          "output_type": "execute_result",
          "data": {
            "text/plain": [
              "   drug_serial_number  time_of_effect\n",
              "0                 672             5.8\n",
              "1                 895            17.3\n",
              "2                 518            16.7\n",
              "3                 448            13.1\n",
              "4                 402            13.6"
            ],
            "text/html": [
              "\n",
              "  <div id=\"df-74c9f99d-d473-42a8-985d-8431f224ad54\">\n",
              "    <div class=\"colab-df-container\">\n",
              "      <div>\n",
              "<style scoped>\n",
              "    .dataframe tbody tr th:only-of-type {\n",
              "        vertical-align: middle;\n",
              "    }\n",
              "\n",
              "    .dataframe tbody tr th {\n",
              "        vertical-align: top;\n",
              "    }\n",
              "\n",
              "    .dataframe thead th {\n",
              "        text-align: right;\n",
              "    }\n",
              "</style>\n",
              "<table border=\"1\" class=\"dataframe\">\n",
              "  <thead>\n",
              "    <tr style=\"text-align: right;\">\n",
              "      <th></th>\n",
              "      <th>drug_serial_number</th>\n",
              "      <th>time_of_effect</th>\n",
              "    </tr>\n",
              "  </thead>\n",
              "  <tbody>\n",
              "    <tr>\n",
              "      <th>0</th>\n",
              "      <td>672</td>\n",
              "      <td>5.8</td>\n",
              "    </tr>\n",
              "    <tr>\n",
              "      <th>1</th>\n",
              "      <td>895</td>\n",
              "      <td>17.3</td>\n",
              "    </tr>\n",
              "    <tr>\n",
              "      <th>2</th>\n",
              "      <td>518</td>\n",
              "      <td>16.7</td>\n",
              "    </tr>\n",
              "    <tr>\n",
              "      <th>3</th>\n",
              "      <td>448</td>\n",
              "      <td>13.1</td>\n",
              "    </tr>\n",
              "    <tr>\n",
              "      <th>4</th>\n",
              "      <td>402</td>\n",
              "      <td>13.6</td>\n",
              "    </tr>\n",
              "  </tbody>\n",
              "</table>\n",
              "</div>\n",
              "      <button class=\"colab-df-convert\" onclick=\"convertToInteractive('df-74c9f99d-d473-42a8-985d-8431f224ad54')\"\n",
              "              title=\"Convert this dataframe to an interactive table.\"\n",
              "              style=\"display:none;\">\n",
              "        \n",
              "  <svg xmlns=\"http://www.w3.org/2000/svg\" height=\"24px\"viewBox=\"0 0 24 24\"\n",
              "       width=\"24px\">\n",
              "    <path d=\"M0 0h24v24H0V0z\" fill=\"none\"/>\n",
              "    <path d=\"M18.56 5.44l.94 2.06.94-2.06 2.06-.94-2.06-.94-.94-2.06-.94 2.06-2.06.94zm-11 1L8.5 8.5l.94-2.06 2.06-.94-2.06-.94L8.5 2.5l-.94 2.06-2.06.94zm10 10l.94 2.06.94-2.06 2.06-.94-2.06-.94-.94-2.06-.94 2.06-2.06.94z\"/><path d=\"M17.41 7.96l-1.37-1.37c-.4-.4-.92-.59-1.43-.59-.52 0-1.04.2-1.43.59L10.3 9.45l-7.72 7.72c-.78.78-.78 2.05 0 2.83L4 21.41c.39.39.9.59 1.41.59.51 0 1.02-.2 1.41-.59l7.78-7.78 2.81-2.81c.8-.78.8-2.07 0-2.86zM5.41 20L4 18.59l7.72-7.72 1.47 1.35L5.41 20z\"/>\n",
              "  </svg>\n",
              "      </button>\n",
              "      \n",
              "  <style>\n",
              "    .colab-df-container {\n",
              "      display:flex;\n",
              "      flex-wrap:wrap;\n",
              "      gap: 12px;\n",
              "    }\n",
              "\n",
              "    .colab-df-convert {\n",
              "      background-color: #E8F0FE;\n",
              "      border: none;\n",
              "      border-radius: 50%;\n",
              "      cursor: pointer;\n",
              "      display: none;\n",
              "      fill: #1967D2;\n",
              "      height: 32px;\n",
              "      padding: 0 0 0 0;\n",
              "      width: 32px;\n",
              "    }\n",
              "\n",
              "    .colab-df-convert:hover {\n",
              "      background-color: #E2EBFA;\n",
              "      box-shadow: 0px 1px 2px rgba(60, 64, 67, 0.3), 0px 1px 3px 1px rgba(60, 64, 67, 0.15);\n",
              "      fill: #174EA6;\n",
              "    }\n",
              "\n",
              "    [theme=dark] .colab-df-convert {\n",
              "      background-color: #3B4455;\n",
              "      fill: #D2E3FC;\n",
              "    }\n",
              "\n",
              "    [theme=dark] .colab-df-convert:hover {\n",
              "      background-color: #434B5C;\n",
              "      box-shadow: 0px 1px 3px 1px rgba(0, 0, 0, 0.15);\n",
              "      filter: drop-shadow(0px 1px 2px rgba(0, 0, 0, 0.3));\n",
              "      fill: #FFFFFF;\n",
              "    }\n",
              "  </style>\n",
              "\n",
              "      <script>\n",
              "        const buttonEl =\n",
              "          document.querySelector('#df-74c9f99d-d473-42a8-985d-8431f224ad54 button.colab-df-convert');\n",
              "        buttonEl.style.display =\n",
              "          google.colab.kernel.accessAllowed ? 'block' : 'none';\n",
              "\n",
              "        async function convertToInteractive(key) {\n",
              "          const element = document.querySelector('#df-74c9f99d-d473-42a8-985d-8431f224ad54');\n",
              "          const dataTable =\n",
              "            await google.colab.kernel.invokeFunction('convertToInteractive',\n",
              "                                                     [key], {});\n",
              "          if (!dataTable) return;\n",
              "\n",
              "          const docLinkHtml = 'Like what you see? Visit the ' +\n",
              "            '<a target=\"_blank\" href=https://colab.research.google.com/notebooks/data_table.ipynb>data table notebook</a>'\n",
              "            + ' to learn more about interactive tables.';\n",
              "          element.innerHTML = '';\n",
              "          dataTable['output_type'] = 'display_data';\n",
              "          await google.colab.output.renderOutput(dataTable, element);\n",
              "          const docLink = document.createElement('div');\n",
              "          docLink.innerHTML = docLinkHtml;\n",
              "          element.appendChild(docLink);\n",
              "        }\n",
              "      </script>\n",
              "    </div>\n",
              "  </div>\n",
              "  "
            ]
          },
          "metadata": {},
          "execution_count": 14
        }
      ],
      "source": [
        "drug = pd.read_csv('doses.csv')\n",
        "drug.head()"
      ]
    },
    {
      "cell_type": "markdown",
      "metadata": {
        "id": "OiNQWmnx-bOQ"
      },
      "source": [
        "**Overview of the dataset**"
      ]
    },
    {
      "cell_type": "code",
      "execution_count": null,
      "metadata": {
        "colab": {
          "base_uri": "https://localhost:8080/"
        },
        "id": "08ZOa6zpAu-h",
        "outputId": "6918b08a-55b3-4790-d0a6-624b252662d4"
      },
      "outputs": [
        {
          "output_type": "stream",
          "name": "stdout",
          "text": [
            "<class 'pandas.core.frame.DataFrame'>\n",
            "RangeIndex: 50 entries, 0 to 49\n",
            "Data columns (total 2 columns):\n",
            " #   Column              Non-Null Count  Dtype  \n",
            "---  ------              --------------  -----  \n",
            " 0   drug_serial_number  50 non-null     int64  \n",
            " 1   time_of_effect      50 non-null     float64\n",
            "dtypes: float64(1), int64(1)\n",
            "memory usage: 928.0 bytes\n"
          ]
        }
      ],
      "source": [
        "drug.info()"
      ]
    },
    {
      "cell_type": "markdown",
      "metadata": {
        "id": "X8Nu1fcmA4En"
      },
      "source": [
        "There are no null values in the dataset"
      ]
    },
    {
      "cell_type": "markdown",
      "metadata": {
        "id": "eKmM-Hv9KySo"
      },
      "source": [
        "**Mean and standard deviation of the time of effect for the sample doses**"
      ]
    },
    {
      "cell_type": "code",
      "execution_count": null,
      "metadata": {
        "colab": {
          "base_uri": "https://localhost:8080/"
        },
        "id": "9JmSPFqkRodY",
        "outputId": "ab55e683-6ee7-4011-8e89-5841ef00f999"
      },
      "outputs": [
        {
          "output_type": "stream",
          "name": "stdout",
          "text": [
            "The estimated mean is 13.44\n",
            "The estimated standard deviation is 4.75\n"
          ]
        }
      ],
      "source": [
        "# import the required function\n",
        "from scipy.stats import norm \n",
        "# estimate the mean and standard deviation of the time of effect for the doses\n",
        "mu = drug['time_of_effect'].mean() \n",
        "sigma = drug['time_of_effect'].std()\n",
        "print('The estimated mean is', round(mu,2))\n",
        "print('The estimated standard deviation is', round(sigma,2))"
      ]
    },
    {
      "cell_type": "markdown",
      "metadata": {
        "id": "COpe00rKM66m"
      },
      "source": [
        "**Plotting the Distribution**\n",
        "\n",
        "It will help us analyze the shape of the distribution of time of effect for doses. "
      ]
    },
    {
      "cell_type": "code",
      "execution_count": null,
      "metadata": {
        "colab": {
          "base_uri": "https://localhost:8080/",
          "height": 369
        },
        "id": "8X0snKzrC0pO",
        "outputId": "e976d2ab-136d-4d9e-89ff-43570634acda"
      },
      "outputs": [
        {
          "output_type": "display_data",
          "data": {
            "text/plain": [
              "<Figure size 360x360 with 1 Axes>"
            ],
            "image/png": "[encoded data removed]"
          },
          "metadata": {
            "needs_background": "light"
          }
        }
      ],
      "source": [
        "# distribution plot of time of effect\n",
        "sns.displot(drug['time_of_effect'],kind=\"kde\")\n",
        "plt.show()"
      ]
    },
    {
      "cell_type": "markdown",
      "metadata": {
        "id": "RuxwnAxMNZ2n"
      },
      "source": [
        "* As you can see in the above plot, the shape of the distribution is not perfectly normal because we just have 50 observations in the sample. But, we can assume this data distribution to be normal and perform our calculations based on the normality assumption."
      ]
    },
    {
      "cell_type": "markdown",
      "metadata": {
        "id": "GjG-LOUgDtln"
      },
      "source": [
        "### a) Find the probability that the time of effect of a dose is less than 11.5 hours"
      ]
    },
    {
      "cell_type": "markdown",
      "metadata": {
        "id": "kp6AqLEV-qmI"
      },
      "source": [
        "* Suppose $X$ is the random variable that denotes the time of effect of a dose. We are to calculate $P(X<11.5)$\n",
        "\n",
        "* Now, for continuous probability distributions\n",
        "\n",
        "$$P(X<k) = P(X<=k)$$\n",
        "\n",
        "* We will use `norm.cdf()` to calculate the cumulative probability\n",
        "  * The function `norm.cdf(x, mu, sigma)` calculates the probability $P(X<x)$ or $P(X<=x)$"
      ]
    },
    {
      "cell_type": "code",
      "execution_count": null,
      "metadata": {
        "colab": {
          "base_uri": "https://localhost:8080/"
        },
        "id": "Rs6QKIKOLX4n",
        "outputId": "af8e4ce3-85f0-4417-8e14-9f5a25cf4683"
      },
      "outputs": [
        {
          "output_type": "stream",
          "name": "stdout",
          "text": [
            "The probability that the time of effect of a dose is less than 11.5 is 0.3412\n"
          ]
        }
      ],
      "source": [
        "# calculate the probability P(X<11.5) using cdf function\n",
        "prob = norm.cdf(11.5, mu, sigma)\n",
        "print('The probability that the time of effect of a dose is less than 11.5 is', round(prob, 4))"
      ]
    },
    {
      "cell_type": "markdown",
      "source": [
        "* There is 34.12% chance that the time of effect of a randomly selected dose is less than 11.5 hours"
      ],
      "metadata": {
        "id": "IVk1z-sORMpW"
      }
    },
    {
      "cell_type": "markdown",
      "metadata": {
        "id": "askOv-hMFB9X"
      },
      "source": [
        "### b) Calculate the 90th percentile of time of effect for the doses"
      ]
    },
    {
      "cell_type": "markdown",
      "metadata": {
        "id": "zWNnwHv1-qmJ"
      },
      "source": [
        "The `ppf` function is an inverse form of the `cdf` function. Suppose $P(X<=k) = \\alpha$, where we are provided the $\\alpha$ (probability) value, then we can calculate the value of $k$ using the `ppf` function. This is the Percent Point Function.\n",
        "\n",
        "In this case, we are to calculate $k$ such that $P(X<=k) = 0.90$. We will use the `ppf()` function for this\n",
        "\n",
        "* The function `norm.ppf(α, loc, scale)` calculates the value $k$ such that $P(X<=k) = \\alpha$"
      ]
    },
    {
      "cell_type": "code",
      "execution_count": null,
      "metadata": {
        "id": "7OLQd57CD2pg",
        "outputId": "1c59cc4c-f2c9-4b2e-ed8f-cc0e8e4c8f79",
        "colab": {
          "base_uri": "https://localhost:8080/"
        }
      },
      "outputs": [
        {
          "output_type": "stream",
          "name": "stdout",
          "text": [
            "The 90th percentile of the time of effect for doses is 19.52 hours\n"
          ]
        }
      ],
      "source": [
        "perc_90th = norm.ppf(0.90, mu, sigma)\n",
        "print('The 90th percentile of the time of effect for doses is', round(perc_90th, 2),'hours')"
      ]
    },
    {
      "cell_type": "markdown",
      "source": [
        "* The 90th percentile of the time of effect for doses is 19.52 hours"
      ],
      "metadata": {
        "id": "3jWiZeuiRbF3"
      }
    },
    {
      "cell_type": "markdown",
      "source": [
        "## Conclusions"
      ],
      "metadata": {
        "id": "Ya5pjedQEhLy"
      }
    },
    {
      "cell_type": "markdown",
      "source": [
        "* The binomial distribution plot suggests the following:\n",
        "  * On an average, 3 out of 10 doses will do an unsatisfactory job\n",
        "  * Out of 10 doses, the mass probability that exactly 3 doses will not do a satisfactory job is comparatively higher than all the other mass probabilities\n",
        "  * The chances of 9 or 10 out of 10 randomly selected does being unsatisfactory is negligible\n",
        "  * This shows that if we randomly select 10 doses, there are higher chances of exactly 3 doses not doing a satisfactory job than any other specific number of doses\n",
        "* The probability that exactly 3 doses out of 10 will not do a satisfactory job is 26.14%\n",
        "* There is a 56.84% chance that at most 3 doses out of 10 will not do a satisfactory job\n",
        "* There is a 3.5 % chance that at least 11 out of 20 doses will not do a satisfactory job\n",
        "  * This suggests that it is very unlikely that more than 50% of the doses will be unsatisfactory\n",
        "* There is 34.12% chance that the time of effect of a randomly selected dose is less than 11.5 hours\n",
        "* There is a 90% chance that the time of effect for a randomly selected dose is less than 19.52 hours"
      ],
      "metadata": {
        "id": "DcZ3XazHEk1r"
      }
    },
    {
      "cell_type": "markdown",
      "metadata": {
        "id": "ZNven5Ai-qmK"
      },
      "source": [
        "---"
      ]
    }
  ],
  "metadata": {
    "colab": {
      "collapsed_sections": [
        "ABPdgfNR-qlu",
        "8FbHCKa_NBGQ",
        "eP61eT-Q-ql0",
        "jFFr2sXaK-IQ",
        "kcDwQXrR-ql_",
        "L9qqPJGG-qmB",
        "k_9OvVaO-qmF",
        "GjG-LOUgDtln",
        "askOv-hMFB9X",
        "Ya5pjedQEhLy"
      ],
      "name": "Medicon_Case_Study.ipynb",
      "provenance": []
    },
    "kernelspec": {
      "display_name": "Python 3",
      "language": "python",
      "name": "python3"
    },
    "language_info": {
      "codemirror_mode": {
        "name": "ipython",
        "version": 3
      },
      "file_extension": ".py",
      "mimetype": "text/x-python",
      "name": "python",
      "nbconvert_exporter": "python",
      "pygments_lexer": "ipython3",
      "version": "3.8.8"
    }
  },
  "nbformat": 4,
  "nbformat_minor": 0
}